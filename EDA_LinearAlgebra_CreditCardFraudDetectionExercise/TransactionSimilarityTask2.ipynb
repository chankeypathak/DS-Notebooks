{
 "cells": [
  {
   "cell_type": "markdown",
   "metadata": {},
   "source": [
    "# Transaction Similarity Task 2"
   ]
  },
  {
   "cell_type": "code",
   "execution_count": 39,
   "metadata": {},
   "outputs": [],
   "source": [
    "import pandas as pd\n",
    "import numpy as np\n",
    "import matplotlib.pyplot as plt\n",
    "import seaborn as sns\n"
   ]
  },
  {
   "cell_type": "code",
   "execution_count": 40,
   "metadata": {},
   "outputs": [],
   "source": [
    "df = pd.read_csv('creditcard.csv')"
   ]
  },
  {
   "cell_type": "markdown",
   "metadata": {},
   "source": [
    "## Creating Sample Data Set"
   ]
  },
  {
   "cell_type": "code",
   "execution_count": 41,
   "metadata": {},
   "outputs": [
    {
     "data": {
      "text/plain": [
       "(1005, 31)"
      ]
     },
     "execution_count": 41,
     "metadata": {},
     "output_type": "execute_result"
    }
   ],
   "source": [
    "s1 = df[df['Class']==0]\n",
    "sampleClass1=s1[0:1000];\n",
    "\n",
    "s2 = df[df['Class']==1]\n",
    "sampleClass2=s2[0:5];\n",
    "\n",
    "sample = sampleClass1.append(sampleClass2)\n",
    "sample.shape\n"
   ]
  },
  {
   "cell_type": "code",
   "execution_count": 42,
   "metadata": {},
   "outputs": [],
   "source": [
    "from sklearn.metrics.pairwise import cosine_similarity\n",
    "d = sample.as_matrix()\n",
    "#cosine_similarity(d[0:1], d[1:2])"
   ]
  },
  {
   "cell_type": "markdown",
   "metadata": {},
   "source": [
    "## Util Functions"
   ]
  },
  {
   "cell_type": "code",
   "execution_count": 43,
   "metadata": {},
   "outputs": [],
   "source": [
    "#This function calculates Similarity by taking Txn id as parameter and gives top 10 similar Transactions as output.\n",
    "def similarity(tId):\n",
    "    lst=[]\n",
    "\n",
    "    print('Source Transaction Id: ',tId,\" Class: \",d[tId][30])\n",
    "    for i in range(1,len(d)):\n",
    "        j=i+1\n",
    "        lst.append(cosine_similarity(d[tId-1:tId], d[i:j])[0][0])\n",
    "\n",
    "    dic = dict()\n",
    "    \n",
    "    #creating dictionary with Key as Cosine Similarity and Value as Txn Id and Class\n",
    "    for i in range(0,len(lst)):\n",
    "        dic[lst[i]]=(i,d[i][30])\n",
    "\n",
    "   \n",
    "    #sorting to get top 10 results    \n",
    "    lst.sort()\n",
    "   \n",
    "    for i in range(10):\n",
    "        print(\"Transaction id -> \",dic[lst[i]][0],\" Class -> \",dic[lst[i]][1],\" Similarity: \",lst[i])"
   ]
  },
  {
   "cell_type": "code",
   "execution_count": 44,
   "metadata": {},
   "outputs": [
    {
     "name": "stdout",
     "output_type": "stream",
     "text": [
      "\n",
      "\n",
      "Transaction  1  Similarities--------------------------------------------------------------------------------- \n",
      "\n",
      "Source Transaction Id:  1  Class:  0.0\n",
      "Transaction id ->  774  Class ->  0.0  Similarity:  -4.089715805648982e-05\n",
      "Transaction id ->  533  Class ->  0.0  Similarity:  -7.434535628749325e-06\n",
      "Transaction id ->  889  Class ->  0.0  Similarity:  7.350922185260839e-05\n",
      "Transaction id ->  875  Class ->  0.0  Similarity:  7.551756231715775e-05\n",
      "Transaction id ->  382  Class ->  0.0  Similarity:  7.903751010581647e-05\n",
      "Transaction id ->  999  Class ->  0.0  Similarity:  8.142714822386527e-05\n",
      "Transaction id ->  933  Class ->  0.0  Similarity:  8.2005564637028e-05\n",
      "Transaction id ->  573  Class ->  0.0  Similarity:  8.362488265324227e-05\n",
      "Transaction id ->  513  Class ->  0.0  Similarity:  0.000101594717993993\n",
      "Transaction id ->  910  Class ->  0.0  Similarity:  0.00010547711504482537\n",
      "\n",
      "\n",
      "Transaction  1002  Similarities--------------------------------------------------------------------------------- \n",
      "\n",
      "Source Transaction Id:  1002  Class:  1.0\n",
      "Transaction id ->  0  Class ->  0.0  Similarity:  0.5281097473174975\n",
      "Transaction id ->  999  Class ->  0.0  Similarity:  0.6655842613799403\n",
      "Transaction id ->  382  Class ->  0.0  Similarity:  0.6656623372046245\n",
      "Transaction id ->  513  Class ->  0.0  Similarity:  0.6656893848586873\n",
      "Transaction id ->  533  Class ->  0.0  Similarity:  0.6657027473660231\n",
      "Transaction id ->  774  Class ->  0.0  Similarity:  0.6657078316066102\n",
      "Transaction id ->  532  Class ->  0.0  Similarity:  0.6657162167161307\n",
      "Transaction id ->  933  Class ->  0.0  Similarity:  0.6657300276219009\n",
      "Transaction id ->  573  Class ->  0.0  Similarity:  0.6657382208686583\n",
      "Transaction id ->  910  Class ->  0.0  Similarity:  0.6657625393944645\n",
      "\n",
      "\n",
      "Transaction  1003  Similarities--------------------------------------------------------------------------------- \n",
      "\n",
      "Source Transaction Id:  1003  Class:  1.0\n",
      "Transaction id ->  0  Class ->  0.0  Similarity:  0.037827698175742726\n",
      "Transaction id ->  1  Class ->  0.0  Similarity:  0.05632676812426587\n",
      "Transaction id ->  2  Class ->  0.0  Similarity:  0.061742597086238124\n",
      "Transaction id ->  50  Class ->  0.0  Similarity:  0.07929109388155606\n",
      "Transaction id ->  163  Class ->  0.0  Similarity:  0.0805319378632574\n",
      "Transaction id ->  3  Class ->  0.0  Similarity:  0.08208955597384802\n",
      "Transaction id ->  88  Class ->  0.0  Similarity:  0.10513949088128065\n",
      "Transaction id ->  19  Class ->  0.0  Similarity:  0.12232761856260588\n",
      "Transaction id ->  7  Class ->  0.0  Similarity:  0.12814512943579326\n",
      "Transaction id ->  11  Class ->  0.0  Similarity:  0.13532345695681952\n",
      "\n",
      "\n",
      "Transaction  75  Similarities--------------------------------------------------------------------------------- \n",
      "\n",
      "Source Transaction Id:  75  Class:  0.0\n",
      "Transaction id ->  0  Class ->  0.0  Similarity:  0.33442407478166597\n",
      "Transaction id ->  1  Class ->  0.0  Similarity:  0.4874753048545898\n",
      "Transaction id ->  2  Class ->  0.0  Similarity:  0.49160098533868024\n",
      "Transaction id ->  50  Class ->  0.0  Similarity:  0.5071847247338102\n",
      "Transaction id ->  163  Class ->  0.0  Similarity:  0.5081354296406299\n",
      "Transaction id ->  3  Class ->  0.0  Similarity:  0.511630970303953\n",
      "Transaction id ->  88  Class ->  0.0  Similarity:  0.5291394076884974\n",
      "Transaction id ->  19  Class ->  0.0  Similarity:  0.5437432999757966\n",
      "Transaction id ->  7  Class ->  0.0  Similarity:  0.5481131424089841\n",
      "Transaction id ->  11  Class ->  0.0  Similarity:  0.5540570687770399\n",
      "\n",
      "\n",
      "Transaction  100  Similarities--------------------------------------------------------------------------------- \n",
      "\n",
      "Source Transaction Id:  100  Class:  0.0\n",
      "Transaction id ->  0  Class ->  0.0  Similarity:  0.17444660712481527\n",
      "Transaction id ->  1  Class ->  0.0  Similarity:  0.23121807914943482\n",
      "Transaction id ->  2  Class ->  0.0  Similarity:  0.2360103367198921\n",
      "Transaction id ->  50  Class ->  0.0  Similarity:  0.25361318033449826\n",
      "Transaction id ->  163  Class ->  0.0  Similarity:  0.2547915117820027\n",
      "Transaction id ->  3  Class ->  0.0  Similarity:  0.2560379046736478\n",
      "Transaction id ->  88  Class ->  0.0  Similarity:  0.2786400387703111\n",
      "Transaction id ->  19  Class ->  0.0  Similarity:  0.2951291298497902\n",
      "Transaction id ->  7  Class ->  0.0  Similarity:  0.29960460639997916\n",
      "Transaction id ->  11  Class ->  0.0  Similarity:  0.3079514711345992\n",
      "\n",
      "\n",
      "Transaction  125  Similarities--------------------------------------------------------------------------------- \n",
      "\n",
      "Source Transaction Id:  125  Class:  0.0\n",
      "Transaction id ->  0  Class ->  0.0  Similarity:  0.43760711479487663\n",
      "Transaction id ->  1  Class ->  0.0  Similarity:  0.629499418676218\n",
      "Transaction id ->  2  Class ->  0.0  Similarity:  0.6336103905983594\n",
      "Transaction id ->  50  Class ->  0.0  Similarity:  0.6471291200576046\n",
      "Transaction id ->  163  Class ->  0.0  Similarity:  0.648150047456263\n",
      "Transaction id ->  3  Class ->  0.0  Similarity:  0.6490763890653596\n",
      "Transaction id ->  88  Class ->  0.0  Similarity:  0.6667642192624242\n",
      "Transaction id ->  19  Class ->  0.0  Similarity:  0.6791265823573613\n",
      "Transaction id ->  7  Class ->  0.0  Similarity:  0.683184376076088\n",
      "Transaction id ->  11  Class ->  0.0  Similarity:  0.6884915576263109\n",
      "\n",
      "\n",
      "Transaction  150  Similarities--------------------------------------------------------------------------------- \n",
      "\n",
      "Source Transaction Id:  150  Class:  0.0\n",
      "Transaction id ->  999  Class ->  0.0  Similarity:  0.27705067072597095\n",
      "Transaction id ->  774  Class ->  0.0  Similarity:  0.27710727615189007\n",
      "Transaction id ->  382  Class ->  0.0  Similarity:  0.277119861244254\n",
      "Transaction id ->  573  Class ->  0.0  Similarity:  0.2771285739385105\n",
      "Transaction id ->  513  Class ->  0.0  Similarity:  0.2771302379568234\n",
      "Transaction id ->  533  Class ->  0.0  Similarity:  0.2771311871305358\n",
      "Transaction id ->  933  Class ->  0.0  Similarity:  0.2771311964741862\n",
      "Transaction id ->  532  Class ->  0.0  Similarity:  0.2771519375189602\n",
      "Transaction id ->  910  Class ->  0.0  Similarity:  0.27716297966705294\n",
      "Transaction id ->  875  Class ->  0.0  Similarity:  0.2771747725235865\n",
      "\n",
      "\n",
      "Transaction  175  Similarities--------------------------------------------------------------------------------- \n",
      "\n",
      "Source Transaction Id:  175  Class:  0.0\n",
      "Transaction id ->  513  Class ->  0.0  Similarity:  0.11856365007017164\n",
      "Transaction id ->  533  Class ->  0.0  Similarity:  0.11857555087467089\n",
      "Transaction id ->  999  Class ->  0.0  Similarity:  0.11858109945298119\n",
      "Transaction id ->  382  Class ->  0.0  Similarity:  0.11858540963778753\n",
      "Transaction id ->  774  Class ->  0.0  Similarity:  0.11858833981386777\n",
      "Transaction id ->  573  Class ->  0.0  Similarity:  0.1186024844542216\n",
      "Transaction id ->  933  Class ->  0.0  Similarity:  0.11860747809850233\n",
      "Transaction id ->  532  Class ->  0.0  Similarity:  0.11861678857522318\n",
      "Transaction id ->  889  Class ->  0.0  Similarity:  0.11864663179296663\n",
      "Transaction id ->  858  Class ->  0.0  Similarity:  0.1186479583362011\n",
      "\n",
      "\n",
      "Transaction  999  Similarities--------------------------------------------------------------------------------- \n",
      "\n",
      "Source Transaction Id:  999  Class:  0.0\n",
      "Transaction id ->  0  Class ->  0.0  Similarity:  0.0014292741736162472\n",
      "Transaction id ->  1  Class ->  0.0  Similarity:  0.0061946556921491985\n",
      "Transaction id ->  2  Class ->  0.0  Similarity:  0.011626619099284363\n",
      "Transaction id ->  50  Class ->  0.0  Similarity:  0.02920337768772529\n",
      "Transaction id ->  163  Class ->  0.0  Similarity:  0.030451437721352004\n",
      "Transaction id ->  3  Class ->  0.0  Similarity:  0.03215026134128548\n",
      "Transaction id ->  88  Class ->  0.0  Similarity:  0.055142739374035764\n",
      "Transaction id ->  19  Class ->  0.0  Similarity:  0.07238190147479662\n",
      "Transaction id ->  7  Class ->  0.0  Similarity:  0.07833278706679397\n",
      "Transaction id ->  11  Class ->  0.0  Similarity:  0.08546955839297259\n"
     ]
    }
   ],
   "source": [
    "sampleOfTransactions=[1,1002,1003,75,100,125,150,175,999];\n",
    "\n",
    "for i in range(len(sampleOfTransactions)):\n",
    "    print(\"\\n\")\n",
    "    print(\"Transaction \",sampleOfTransactions[i],\" Similarities--------------------------------------------------------------------------------- \\n\");\n",
    "    similarity(sampleOfTransactions[i]);\n",
    "    "
   ]
  }
 ],
 "metadata": {
  "kernelspec": {
   "display_name": "Python 3",
   "language": "python",
   "name": "python3"
  },
  "language_info": {
   "codemirror_mode": {
    "name": "ipython",
    "version": 3
   },
   "file_extension": ".py",
   "mimetype": "text/x-python",
   "name": "python",
   "nbconvert_exporter": "python",
   "pygments_lexer": "ipython3",
   "version": "3.6.4"
  }
 },
 "nbformat": 4,
 "nbformat_minor": 2
}
