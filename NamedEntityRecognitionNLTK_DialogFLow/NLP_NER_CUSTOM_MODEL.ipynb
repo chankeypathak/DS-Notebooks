{
 "cells": [
  {
   "cell_type": "markdown",
   "metadata": {},
   "source": [
    "https://stackoverflow.com/questions/31836058/nltk-named-entity-recognition-to-a-python-list"
   ]
  },
  {
   "cell_type": "code",
   "execution_count": 1,
   "metadata": {},
   "outputs": [
    {
     "name": "stdout",
     "output_type": "stream",
     "text": [
      "[nltk_data] Downloading package punkt to\n",
      "[nltk_data]     C:\\Users\\Dell\\AppData\\Roaming\\nltk_data...\n",
      "[nltk_data]   Package punkt is already up-to-date!\n",
      "[nltk_data] Downloading package averaged_perceptron_tagger to\n",
      "[nltk_data]     C:\\Users\\Dell\\AppData\\Roaming\\nltk_data...\n",
      "[nltk_data]   Package averaged_perceptron_tagger is already up-to-\n",
      "[nltk_data]       date!\n",
      "[nltk_data] Downloading package maxent_ne_chunker to\n",
      "[nltk_data]     C:\\Users\\Dell\\AppData\\Roaming\\nltk_data...\n",
      "[nltk_data]   Package maxent_ne_chunker is already up-to-date!\n",
      "[nltk_data] Downloading package words to\n",
      "[nltk_data]     C:\\Users\\Dell\\AppData\\Roaming\\nltk_data...\n",
      "[nltk_data]   Package words is already up-to-date!\n"
     ]
    },
    {
     "data": {
      "text/plain": [
       "True"
      ]
     },
     "execution_count": 1,
     "metadata": {},
     "output_type": "execute_result"
    }
   ],
   "source": [
    "import nltk as nltk\n",
    "nltk.download('punkt')\n",
    "nltk.download('averaged_perceptron_tagger')\n",
    "nltk.download('maxent_ne_chunker')\n",
    "nltk.download('words')"
   ]
  },
  {
   "cell_type": "code",
   "execution_count": 2,
   "metadata": {},
   "outputs": [
    {
     "data": {
      "text/plain": [
       "['WASHINGTON', 'New York', 'Loretta E. Lynch', 'Brooklyn']"
      ]
     },
     "execution_count": 2,
     "metadata": {},
     "output_type": "execute_result"
    }
   ],
   "source": [
    "from nltk import ne_chunk, pos_tag, word_tokenize\n",
    "from nltk.tree import Tree\n",
    "\n",
    "\n",
    "def get_continuous_chunks(text):\n",
    "    chunked = ne_chunk(pos_tag(word_tokenize(text)))\n",
    "    prev = None\n",
    "    continuous_chunk = []\n",
    "    current_chunk = []\n",
    "    for i in chunked:\n",
    "            if type(i) == Tree:\n",
    "                    current_chunk.append(\" \".join([token for token, pos in i.leaves()]))\n",
    "            elif current_chunk:\n",
    "                    named_entity = \" \".join(current_chunk)\n",
    "                    if named_entity not in continuous_chunk:\n",
    "                            continuous_chunk.append(named_entity)\n",
    "                            current_chunk = []\n",
    "            else:\n",
    "                    continue\n",
    "    return continuous_chunk\n",
    "\n",
    "my_sent = \"WASHINGTON -- In the wake of a string of abuses by New York police officers in the 1990s, Loretta E. Lynch, the top federal prosecutor in Brooklyn, spoke forcefully about the pain of a broken trust that African-Americans felt and said the responsibility for repairing generations of miscommunication and mistrust fell to law enforcement.\"\n",
    "sent = \"What is the Headcount in America in the year 1990\";\n",
    "get_continuous_chunks(my_sent)"
   ]
  },
  {
   "cell_type": "code",
   "execution_count": null,
   "metadata": {},
   "outputs": [],
   "source": []
  },
  {
   "cell_type": "markdown",
   "metadata": {},
   "source": [
    "https://blog.sicara.com/train-ner-model-with-nltk-stanford-tagger-english-french-german-6d90573a9486"
   ]
  },
  {
   "cell_type": "code",
   "execution_count": 3,
   "metadata": {},
   "outputs": [],
   "source": [
    "import os\n",
    "java_path = \"C:/Program Files/Java/jdk1.8.0_101/bin/java.exe\"\n",
    "os.environ['JAVAHOME'] = java_path"
   ]
  },
  {
   "cell_type": "code",
   "execution_count": 4,
   "metadata": {},
   "outputs": [
    {
     "name": "stderr",
     "output_type": "stream",
     "text": [
      "C:\\Users\\Dell\\Anaconda3\\lib\\site-packages\\nltk\\tag\\stanford.py:183: DeprecationWarning: \n",
      "The StanfordTokenizer will be deprecated in version 3.2.5.\n",
      "Please use \u001b[91mnltk.tag.corenlp.CoreNLPPOSTagger\u001b[0m or \u001b[91mnltk.tag.corenlp.CoreNLPNERTagger\u001b[0m instead.\n",
      "  super(StanfordNERTagger, self).__init__(*args, **kwargs)\n"
     ]
    },
    {
     "name": "stdout",
     "output_type": "stream",
     "text": [
      "[('Twenty', 'O'), ('miles', 'O'), ('east', 'O'), ('of', 'O'), ('Reno', 'LOCATION'), (',', 'O'), ('Nev.', 'LOCATION'), (',', 'O'), ('where', 'O'), ('packs', 'O'), ('of', 'O'), ('wild', 'O'), ('mustangs', 'O'), ('roam', 'O'), ('free', 'O'), ('through', 'O'), ('the', 'O'), ('parched', 'O'), ('landscape', 'O'), (',', 'O'), ('Tesla', 'ORGANIZATION'), ('Gigafactory', 'ORGANIZATION'), ('1', 'O'), ('sprawls', 'O'), ('near', 'O'), ('Interstate', 'LOCATION'), ('80', 'LOCATION'), ('.', 'O')]\n"
     ]
    }
   ],
   "source": [
    "import nltk\n",
    "from nltk.tag.stanford import StanfordNERTagger\n",
    "\n",
    "sentence = u\"Twenty miles east of Reno, Nev., \" \\\n",
    "    \"where packs of wild mustangs roam free through \" \\\n",
    "    \"the parched landscape, Tesla Gigafactory 1 \" \\\n",
    "    \"sprawls near Interstate 80.\"\n",
    "    \n",
    "#sent = u\"What is the Headcount in America\"\n",
    "\n",
    "jar = 'stanford-ner.jar'\n",
    "model = 'english.all.3class.distsim.crf.ser.gz'\n",
    "\n",
    "# Prepare NER tagger with english model\n",
    "ner_tagger = StanfordNERTagger(model, jar, encoding='utf8')\n",
    "\n",
    "# Tokenize: Split sentence into words\n",
    "words = nltk.word_tokenize(sentence)\n",
    "\n",
    "# Run NER tagger on words\n",
    "print(ner_tagger.tag(words))"
   ]
  },
  {
   "cell_type": "markdown",
   "metadata": {},
   "source": [
    "# Custom NER MODEL\n",
    "<br>\n",
    "java command to train our model: java -cp \"*\" edu.stanford.nlp.ie.crf.CRFClassifier -prop prop.txt\n",
    "<br>\n",
    "prop.txt file contain all the properties<br>\n",
    "Output model will be stored in dummy-ner-model-custom.ser.gz file<br>\n",
    "cust_ent.tsv -> tab seperated value file contains all our sentences, these sentences are split into words and labeled.\n"
   ]
  },
  {
   "cell_type": "code",
   "execution_count": 5,
   "metadata": {},
   "outputs": [
    {
     "name": "stderr",
     "output_type": "stream",
     "text": [
      "C:\\Users\\Dell\\Anaconda3\\lib\\site-packages\\nltk\\tag\\stanford.py:183: DeprecationWarning: \n",
      "The StanfordTokenizer will be deprecated in version 3.2.5.\n",
      "Please use \u001b[91mnltk.tag.corenlp.CoreNLPPOSTagger\u001b[0m or \u001b[91mnltk.tag.corenlp.CoreNLPNERTagger\u001b[0m instead.\n",
      "  super(StanfordNERTagger, self).__init__(*args, **kwargs)\n"
     ]
    },
    {
     "name": "stdout",
     "output_type": "stream",
     "text": [
      "Query:  headcount in 2018 in america \n",
      "\n",
      "Otput:  [('headcount', 'METRIC'), ('in', 'O'), ('2018', 'DATE'), ('in', 'O'), ('america', 'LOCATION')] \n",
      "\n",
      "********************************************************************\n",
      "\n",
      "Query:  headcount in 2018 \n",
      "\n",
      "Otput:  [('headcount', 'METRIC'), ('in', 'O'), ('2018', 'DATE')] \n",
      "\n",
      "********************************************************************\n",
      "\n",
      "Query:  headcount in london in last quarter \n",
      "\n",
      "Otput:  [('headcount', 'METRIC'), ('in', 'O'), ('london', 'LOCATION'), ('in', 'O'), ('last quarter', 'DATE')] \n",
      "\n",
      "********************************************************************\n",
      "\n",
      "Query:  what is the averageage in last quarter in America \n",
      "\n",
      "Otput:  [('what', 'O'), ('is', 'O'), ('the', 'O'), ('averageage', 'METRIC'), ('in', 'O'), ('last quarter', 'DATE'), ('in', 'O'), ('America', 'DATE')] \n",
      "\n",
      "********************************************************************\n",
      "\n",
      "Query:  what is the averageage in 2018 in newyork \n",
      "\n",
      "Otput:  [('what', 'O'), ('is', 'O'), ('the', 'O'), ('averageage', 'METRIC'), ('in', 'O'), ('2018', 'DATE'), ('in', 'O'), ('newyork', 'LOCATION')] \n",
      "\n",
      "********************************************************************\n",
      "\n",
      "Query:  show me headcount in arizona \n",
      "\n",
      "Otput:  [('show', 'O'), ('me', 'O'), ('headcount', 'METRIC'), ('in', 'O'), ('arizona', 'LOCATION')] \n",
      "\n",
      "********************************************************************\n",
      "\n",
      "Query:  tell me headcount in newyork in march \n",
      "\n",
      "Otput:  [('tell', 'O'), ('me', 'O'), ('headcount', 'METRIC'), ('in', 'O'), ('newyork', 'LOCATION'), ('in', 'O'), ('march', 'DATE')] \n",
      "\n",
      "********************************************************************\n",
      "\n",
      "Query:  show head count in New York \n",
      "\n",
      "Otput:  [('show', 'O'), ('head count', 'METRIC'), ('in', 'O'), ('New York', 'LOCATION')] \n",
      "\n",
      "********************************************************************\n",
      "\n",
      "Query:  show head count in New York in march 2018 \n",
      "\n",
      "Otput:  [('show', 'O'), ('head count', 'METRIC'), ('in', 'O'), ('New York', 'LOCATION'), ('in', 'O'), ('march 2018', 'DATE')] \n",
      "\n",
      "********************************************************************\n",
      "\n",
      "Query:  what is the absence in New York \n",
      "\n",
      "Otput:  [('what', 'O'), ('is', 'O'), ('the', 'O'), ('absence', 'METRIC'), ('in', 'O'), ('New', 'DATE'), ('York', 'O')] \n",
      "\n",
      "********************************************************************\n",
      "\n",
      "Query:  show head count in New York in march 2018 \n",
      "\n",
      "Otput:  [('show', 'O'), ('head count', 'METRIC'), ('in', 'O'), ('New York', 'LOCATION'), ('in', 'O'), ('march 2018', 'DATE')] \n",
      "\n",
      "********************************************************************\n",
      "\n",
      "Query:  show Time Utilization in arizona in march 2018 \n",
      "\n",
      "Otput:  [('show', 'O'), ('Time Utilization', 'METRIC'), ('in', 'O'), ('arizona', 'LOCATION'), ('in', 'O'), ('march 2018', 'DATE')] \n",
      "\n",
      "********************************************************************\n",
      "\n",
      "Query:  show female percentage in arizona in 2017 \n",
      "\n",
      "Otput:  [('show', 'O'), ('female percentage', 'METRIC'), ('in', 'O'), ('arizona', 'LOCATION'), ('in', 'O'), ('2017', 'DATE')] \n",
      "\n",
      "********************************************************************\n",
      "\n",
      "Query:  show headcount in china in 2017 \n",
      "\n",
      "Otput:  [('show', 'O'), ('headcount', 'METRIC'), ('in', 'O'), ('china', 'LOCATION'), ('in', 'O'), ('2017', 'DATE')] \n",
      "\n",
      "********************************************************************\n",
      "\n",
      "Query:  show retention in arizona in 2017 \n",
      "\n",
      "Otput:  [('show', 'O'), ('retention', 'METRIC'), ('in', 'O'), ('arizona', 'LOCATION'), ('in', 'O'), ('2017', 'DATE')] \n",
      "\n",
      "********************************************************************\n",
      "\n"
     ]
    }
   ],
   "source": [
    "import nltk\n",
    "from itertools import groupby\n",
    "from pprint import pprint\n",
    "from nltk.tag.stanford import StanfordNERTagger\n",
    "\n",
    "# Optional\n",
    "import os\n",
    "java_path = \"C:/Program Files/Java/jdk1.8.0_101/bin/java.exe\"\n",
    "os.environ['JAVAHOME'] = java_path\n",
    "\n",
    "li_of_sent = [u\"headcount in 2018 in america\",\n",
    "              u\"headcount in 2018\",\n",
    "              u\"headcount in london in last quarter\",\n",
    "              u\"what is the averageage in last quarter in America\",\n",
    "             u\"what is the averageage in 2018 in newyork\",\n",
    "            u\"show me headcount in arizona\",\n",
    "             u\"tell me headcount in newyork in march\",\n",
    "             u\"show head count in New York\",\n",
    "            u\"show head count in New York in march 2018\",\n",
    "              u\"what is the absence in New York\",\n",
    "             u\"show head count in New York in march 2018\",\n",
    "              u\"show Time Utilization in arizona in march 2018\",\n",
    "             u\"show female percentage in arizona in 2017\",\n",
    "             u\"show headcount in china in 2017\",\n",
    "             u\"show retention in arizona in 2017\"];\n",
    "    \n",
    "\n",
    "\n",
    "jar = 'stanford-ner.jar'\n",
    "model = 'dummy-ner-model-custom.ser.gz'\n",
    "\n",
    "ner_tagger = StanfordNERTagger(model, jar, encoding='utf8')\n",
    "\n",
    "for sent in li_of_sent:\n",
    "    print(\"Query: \",sent,\"\\n\")\n",
    "    words = nltk.word_tokenize(sent)\n",
    "    #print(\"Otput: \",ner_tagger.tag(words),\"\\n\\n********************************************************************\\n\")\n",
    "    chunked = []\n",
    "    \n",
    "    #tag is lable\n",
    "    #chunk is tuple (word,label) -> (america,LOCATION)\n",
    "    for tag, chunk in groupby(ner_tagger.tag(words), lambda x:x[1]):\n",
    "        if tag == \"O\":\n",
    "            chunked.extend((w,t) for (w,t) in chunk)\n",
    "        else:\n",
    "            chunked.append((\" \".join(w for (w,t) in chunk), tag))\n",
    "    print(\"Otput: \",chunked,\"\\n\\n********************************************************************\\n\")\n",
    "    \n"
   ]
  },
  {
   "cell_type": "code",
   "execution_count": 161,
   "metadata": {},
   "outputs": [],
   "source": [
    "??StanfordNERTagger()"
   ]
  },
  {
   "cell_type": "code",
   "execution_count": null,
   "metadata": {},
   "outputs": [],
   "source": []
  }
 ],
 "metadata": {
  "kernelspec": {
   "display_name": "Python 3",
   "language": "python",
   "name": "python3"
  },
  "language_info": {
   "codemirror_mode": {
    "name": "ipython",
    "version": 3
   },
   "file_extension": ".py",
   "mimetype": "text/x-python",
   "name": "python",
   "nbconvert_exporter": "python",
   "pygments_lexer": "ipython3",
   "version": "3.6.4"
  }
 },
 "nbformat": 4,
 "nbformat_minor": 2
}
