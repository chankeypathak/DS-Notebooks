{
 "cells": [
  {
   "cell_type": "markdown",
   "metadata": {},
   "source": [
    "# Python Keywords"
   ]
  },
  {
   "cell_type": "code",
   "execution_count": 7,
   "metadata": {},
   "outputs": [
    {
     "name": "stdout",
     "output_type": "stream",
     "text": [
      "['False', 'None', 'True', 'and', 'as', 'assert', 'break', 'class', 'continue', 'def', 'del', 'elif', 'else', 'except', 'finally', 'for', 'from', 'global', 'if', 'import', 'in', 'is', 'lambda', 'nonlocal', 'not', 'or', 'pass', 'raise', 'return', 'try', 'while', 'with', 'yield']\n",
      "\n",
      "Total no.of keywords:  33\n"
     ]
    }
   ],
   "source": [
    "#get all keywords in py\n",
    "\n",
    "import keyword\n",
    "\n",
    "print(keyword.kwlist)\n",
    "\n",
    "print(\"\\nTotal no.of keywords: \",len(keyword.kwlist))"
   ]
  },
  {
   "cell_type": "markdown",
   "metadata": {},
   "source": [
    "# Comments in Py"
   ]
  },
  {
   "cell_type": "code",
   "execution_count": 30,
   "metadata": {},
   "outputs": [],
   "source": [
    "# Single line cmt"
   ]
  },
  {
   "cell_type": "markdown",
   "metadata": {},
   "source": [
    "# Multi-line Statement"
   ]
  },
  {
   "cell_type": "code",
   "execution_count": 14,
   "metadata": {},
   "outputs": [
    {
     "name": "stdout",
     "output_type": "stream",
     "text": [
      "21\n",
      "10\n"
     ]
    }
   ],
   "source": [
    "# '\\' slash is used to represent end of line i.e new line char.\n",
    "a=1+2+3+ \\\n",
    "  4+5+\\\n",
    "    6;\n",
    "\n",
    "#or\n",
    "\n",
    "b=(1+2\n",
    "  +3+4);\n",
    "\n",
    "print(a)\n",
    "print(b)"
   ]
  },
  {
   "cell_type": "markdown",
   "metadata": {},
   "source": [
    "# Varialbes\n",
    "### Multiple Assignments"
   ]
  },
  {
   "cell_type": "code",
   "execution_count": 16,
   "metadata": {},
   "outputs": [
    {
     "name": "stdout",
     "output_type": "stream",
     "text": [
      "20 2.2 AI\n"
     ]
    }
   ],
   "source": [
    "a, b, c=20,2.2,\"AI\";\n",
    "\n",
    "print(a,b,c)"
   ]
  },
  {
   "cell_type": "markdown",
   "metadata": {},
   "source": [
    "# Storage Locations"
   ]
  },
  {
   "cell_type": "code",
   "execution_count": 21,
   "metadata": {},
   "outputs": [
    {
     "name": "stdout",
     "output_type": "stream",
     "text": [
      "address of x:  1772974048\n",
      "address of y:  1772974048\n",
      "address of y:  1772973664\n"
     ]
    }
   ],
   "source": [
    "x = 123; \n",
    "y = 123;\n",
    "\n",
    "#id's or address of x,y vars\n",
    "print(\"address of x: \",id(x))\n",
    "\n",
    "print(\"address of y: \",id(y))\n",
    "\n",
    "y = 111;\n",
    "print(\"address of y: \",id(y))"
   ]
  },
  {
   "cell_type": "markdown",
   "metadata": {},
   "source": [
    "Observation: Here x,y points to same address i.e it is reusing the memory location, memory location is created based on the value assigned, in java seperate Memory location is created for every variable.\n",
    "\n",
    "if value is changed address also will be changed, as we have changed 'y' value the memory location of 'y' is also changed"
   ]
  },
  {
   "cell_type": "markdown",
   "metadata": {},
   "source": [
    "# Data Types\n",
    "### Every thing in python is 'Object' like wrapper classes in Java"
   ]
  },
  {
   "cell_type": "code",
   "execution_count": 28,
   "metadata": {},
   "outputs": [
    {
     "name": "stdout",
     "output_type": "stream",
     "text": [
      "5  its of type:  <class 'int'>\n",
      "222.2  its of type:  <class 'float'>\n",
      "Hello  its of type:  <class 'str'>\n",
      "2.2222222222222223  its of type:  <class 'float'>\n",
      "(1+2j)  its of type:  <class 'complex'>\n",
      "True  its of type:  <class 'bool'>\n"
     ]
    }
   ],
   "source": [
    "a = 5;\n",
    "\n",
    "print(a, \" its of type: \",type(a));\n",
    "\n",
    "a = 222.2;\n",
    "\n",
    "print(a, \" its of type: \",type(a));\n",
    "\n",
    "a = \"Hello\";\n",
    "\n",
    "print(a, \" its of type: \",type(a));\n",
    "\n",
    "a = 2.2222222222222222222;\n",
    "\n",
    "print(a, \" its of type: \",type(a));\n",
    "\n",
    "\n",
    "# Python also supports Complex Numbers\n",
    "a = 1+2j;\n",
    "\n",
    "print(a, \" its of type: \",type(a));\n",
    "\n",
    "a = True;\n",
    "\n",
    "print(a, \" its of type: \",type(a));\n",
    "\n"
   ]
  },
  {
   "cell_type": "markdown",
   "metadata": {},
   "source": [
    "# Strings"
   ]
  },
  {
   "cell_type": "code",
   "execution_count": 38,
   "metadata": {},
   "outputs": [
    {
     "name": "stdout",
     "output_type": "stream",
     "text": [
      "hi\n",
      "hi\n",
      "\n",
      "\n",
      "Multi \n",
      "line\n",
      "String\n",
      "\n",
      "\n",
      "\n",
      "\n",
      "hi\n",
      "\n",
      "\n"
     ]
    }
   ],
   "source": [
    "a='hi';\n",
    "print(a);\n",
    "\n",
    "a=\"hi\";\n",
    "print(a);\n",
    "\n",
    "a=\"\"\"\n",
    "\n",
    "Multi \n",
    "line\n",
    "String\n",
    "\n",
    "\"\"\"\n",
    "print(a);\n",
    "\n",
    "#or\n",
    "\n",
    "a='''\n",
    "\n",
    "hi\n",
    "\n",
    "'''\n",
    "print(a);"
   ]
  },
  {
   "cell_type": "code",
   "execution_count": 51,
   "metadata": {},
   "outputs": [
    {
     "name": "stdout",
     "output_type": "stream",
     "text": [
      "H\n",
      "Length of str is:  19\n"
     ]
    }
   ],
   "source": [
    "a=\"HI I am Learning ML\"\n",
    "print(a[0]);\n",
    "\n",
    "print(\"Length of str is: \",len(a))"
   ]
  },
  {
   "cell_type": "markdown",
   "metadata": {},
   "source": [
    "# Slicing in Strings"
   ]
  },
  {
   "cell_type": "code",
   "execution_count": 57,
   "metadata": {},
   "outputs": [
    {
     "name": "stdout",
     "output_type": "stream",
     "text": [
      "Learning ML\n",
      "HI\n",
      "L\n",
      "HI I am Learning ML\n",
      "HI\n"
     ]
    }
   ],
   "source": [
    "#index starts at 0\n",
    "\n",
    "print(a[8:]) #prints from 8th char to end\n",
    "\n",
    "print(a[:2]) #prints till 2nd char\n",
    "\n",
    "print(a[-1]) #prints last Char\n",
    "\n",
    "print(a[:]) #prints total string\n",
    "\n",
    "print(a[0:2]) # 0,1 chars will be printed"
   ]
  },
  {
   "cell_type": "markdown",
   "metadata": {},
   "source": [
    "# Conversions between DataTypes"
   ]
  },
  {
   "cell_type": "code",
   "execution_count": 64,
   "metadata": {},
   "outputs": [
    {
     "name": "stdout",
     "output_type": "stream",
     "text": [
      "10.0\n",
      "10\n",
      "10.1\n"
     ]
    },
    {
     "data": {
      "text/plain": [
       "'10.1'"
      ]
     },
     "execution_count": 64,
     "metadata": {},
     "output_type": "execute_result"
    }
   ],
   "source": [
    "print(float(10))\n",
    "\n",
    "print(int(10.25))\n",
    "\n",
    "print(str(10.1))\n",
    "\n",
    "str(10.1)"
   ]
  },
  {
   "cell_type": "code",
   "execution_count": null,
   "metadata": {
    "collapsed": true
   },
   "outputs": [],
   "source": []
  }
 ],
 "metadata": {
  "kernelspec": {
   "display_name": "Python 3",
   "language": "python",
   "name": "python3"
  },
  "language_info": {
   "codemirror_mode": {
    "name": "ipython",
    "version": 3
   },
   "file_extension": ".py",
   "mimetype": "text/x-python",
   "name": "python",
   "nbconvert_exporter": "python",
   "pygments_lexer": "ipython3",
   "version": "3.6.4"
  }
 },
 "nbformat": 4,
 "nbformat_minor": 2
}
