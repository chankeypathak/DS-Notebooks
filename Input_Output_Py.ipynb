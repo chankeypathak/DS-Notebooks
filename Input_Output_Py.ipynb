{
 "cells": [
  {
   "cell_type": "markdown",
   "metadata": {},
   "source": [
    "# Output Formatting"
   ]
  },
  {
   "cell_type": "code",
   "execution_count": 2,
   "metadata": {},
   "outputs": [
    {
     "name": "stdout",
     "output_type": "stream",
     "text": [
      "the val of a is 10 and b is 20\n"
     ]
    }
   ],
   "source": [
    "a = 10; b=20;\n",
    "\n",
    "print(\"the val of a is {} and b is {}\".format(a,b)); #similar to C lang"
   ]
  },
  {
   "cell_type": "code",
   "execution_count": 8,
   "metadata": {},
   "outputs": [
    {
     "name": "stdout",
     "output_type": "stream",
     "text": [
      "the val of b is 20 and a is 10\n"
     ]
    }
   ],
   "source": [
    "a = 10; b=20;\n",
    "\n",
    "print(\"the val of b is {1} and a is {0}\".format(a,b)); #mentioning positions of a and b\n"
   ]
  },
  {
   "cell_type": "code",
   "execution_count": 9,
   "metadata": {},
   "outputs": [
    {
     "name": "stdout",
     "output_type": "stream",
     "text": [
      "Hello Akarsh Akarsh\n"
     ]
    }
   ],
   "source": [
    "print(\"Hello {name} {name}\".format(name=\"Akarsh\"))"
   ]
  },
  {
   "cell_type": "markdown",
   "metadata": {},
   "source": [
    "# Input\n",
    "### input() will always takes value in terms of String,\n",
    "### we need to convert it to int, float....accordingly. "
   ]
  },
  {
   "cell_type": "code",
   "execution_count": 1,
   "metadata": {},
   "outputs": [
    {
     "name": "stdout",
     "output_type": "stream",
     "text": [
      "Enter a Number10\n",
      "The value entered is:  10\n",
      "<class 'str'>\n"
     ]
    }
   ],
   "source": [
    "a = input(\"Enter a Number\")\n",
    "print(\"The value entered is: \",a)\n",
    "\n",
    "print(type(a));"
   ]
  }
 ],
 "metadata": {
  "kernelspec": {
   "display_name": "Python 3",
   "language": "python",
   "name": "python3"
  },
  "language_info": {
   "codemirror_mode": {
    "name": "ipython",
    "version": 3
   },
   "file_extension": ".py",
   "mimetype": "text/x-python",
   "name": "python",
   "nbconvert_exporter": "python",
   "pygments_lexer": "ipython3",
   "version": "3.6.4"
  }
 },
 "nbformat": 4,
 "nbformat_minor": 2
}
