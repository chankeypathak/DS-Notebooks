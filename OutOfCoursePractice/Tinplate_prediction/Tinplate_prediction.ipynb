{
 "cells": [
  {
   "cell_type": "code",
   "execution_count": 209,
   "metadata": {},
   "outputs": [],
   "source": [
    "import matplotlib.pyplot as plt\n",
    "import numpy as np\n",
    "from sklearn import datasets, linear_model\n",
    "from sklearn.metrics import mean_squared_error, r2_score\n",
    "import pandas as pd"
   ]
  },
  {
   "cell_type": "code",
   "execution_count": 371,
   "metadata": {},
   "outputs": [],
   "source": [
    "# Load the dataset\n",
    "df = pd.read_csv('TINPLATE.BO.csv')\n",
    "\n"
   ]
  },
  {
   "cell_type": "code",
   "execution_count": 372,
   "metadata": {},
   "outputs": [
    {
     "data": {
      "text/html": [
       "<div>\n",
       "<style scoped>\n",
       "    .dataframe tbody tr th:only-of-type {\n",
       "        vertical-align: middle;\n",
       "    }\n",
       "\n",
       "    .dataframe tbody tr th {\n",
       "        vertical-align: top;\n",
       "    }\n",
       "\n",
       "    .dataframe thead th {\n",
       "        text-align: right;\n",
       "    }\n",
       "</style>\n",
       "<table border=\"1\" class=\"dataframe\">\n",
       "  <thead>\n",
       "    <tr style=\"text-align: right;\">\n",
       "      <th></th>\n",
       "      <th>Date</th>\n",
       "      <th>Open</th>\n",
       "      <th>High</th>\n",
       "      <th>Low</th>\n",
       "      <th>Close</th>\n",
       "      <th>Adj Close</th>\n",
       "      <th>Volume</th>\n",
       "    </tr>\n",
       "  </thead>\n",
       "  <tbody>\n",
       "    <tr>\n",
       "      <th>0</th>\n",
       "      <td>06-09-2017</td>\n",
       "      <td>168.000000</td>\n",
       "      <td>181.850006</td>\n",
       "      <td>167.000000</td>\n",
       "      <td>174.699997</td>\n",
       "      <td>174.699997</td>\n",
       "      <td>1846449</td>\n",
       "    </tr>\n",
       "    <tr>\n",
       "      <th>1</th>\n",
       "      <td>07-09-2017</td>\n",
       "      <td>176.300003</td>\n",
       "      <td>182.000000</td>\n",
       "      <td>173.000000</td>\n",
       "      <td>180.000000</td>\n",
       "      <td>180.000000</td>\n",
       "      <td>627391</td>\n",
       "    </tr>\n",
       "    <tr>\n",
       "      <th>2</th>\n",
       "      <td>08-09-2017</td>\n",
       "      <td>185.050003</td>\n",
       "      <td>190.000000</td>\n",
       "      <td>182.750000</td>\n",
       "      <td>184.449997</td>\n",
       "      <td>184.449997</td>\n",
       "      <td>944785</td>\n",
       "    </tr>\n",
       "    <tr>\n",
       "      <th>3</th>\n",
       "      <td>11-09-2017</td>\n",
       "      <td>186.800003</td>\n",
       "      <td>188.100006</td>\n",
       "      <td>181.850006</td>\n",
       "      <td>184.500000</td>\n",
       "      <td>184.500000</td>\n",
       "      <td>415569</td>\n",
       "    </tr>\n",
       "    <tr>\n",
       "      <th>4</th>\n",
       "      <td>12-09-2017</td>\n",
       "      <td>187.199997</td>\n",
       "      <td>189.449997</td>\n",
       "      <td>184.350006</td>\n",
       "      <td>186.199997</td>\n",
       "      <td>186.199997</td>\n",
       "      <td>321876</td>\n",
       "    </tr>\n",
       "  </tbody>\n",
       "</table>\n",
       "</div>"
      ],
      "text/plain": [
       "         Date        Open        High         Low       Close   Adj Close  \\\n",
       "0  06-09-2017  168.000000  181.850006  167.000000  174.699997  174.699997   \n",
       "1  07-09-2017  176.300003  182.000000  173.000000  180.000000  180.000000   \n",
       "2  08-09-2017  185.050003  190.000000  182.750000  184.449997  184.449997   \n",
       "3  11-09-2017  186.800003  188.100006  181.850006  184.500000  184.500000   \n",
       "4  12-09-2017  187.199997  189.449997  184.350006  186.199997  186.199997   \n",
       "\n",
       "    Volume  \n",
       "0  1846449  \n",
       "1   627391  \n",
       "2   944785  \n",
       "3   415569  \n",
       "4   321876  "
      ]
     },
     "execution_count": 372,
     "metadata": {},
     "output_type": "execute_result"
    }
   ],
   "source": [
    "df.head()"
   ]
  },
  {
   "cell_type": "code",
   "execution_count": 217,
   "metadata": {},
   "outputs": [
    {
     "data": {
      "text/plain": [
       "2112002"
      ]
     },
     "execution_count": 217,
     "metadata": {},
     "output_type": "execute_result"
    }
   ],
   "source": [
    "import datetime\n",
    "x = datetime.datetime.strptime('02-11-2002','%d-%m-%Y').strftime('%d%m%Y')\n",
    "int(x)"
   ]
  },
  {
   "cell_type": "code",
   "execution_count": 426,
   "metadata": {},
   "outputs": [
    {
     "name": "stderr",
     "output_type": "stream",
     "text": [
      "C:\\Users\\Dell\\Anaconda3\\lib\\site-packages\\ipykernel_launcher.py:12: SettingWithCopyWarning: \n",
      "A value is trying to be set on a copy of a slice from a DataFrame\n",
      "\n",
      "See the caveats in the documentation: http://pandas.pydata.org/pandas-docs/stable/indexing.html#indexing-view-versus-copy\n",
      "  if sys.path[0] == '':\n"
     ]
    }
   ],
   "source": [
    "import datetime\n",
    "'''df['Date'] = pd.to_datetime(df['Date'])\n",
    "df['Date']=df['Date'].map(dt.datetime.toordinal)\n",
    "'''\n",
    "#df['Date'] = pd.to_datetime(df['Date'], format='%d/%m/%Y') \n",
    "#df.head()\n",
    "\n",
    "x = datetime.datetime.strptime('20-11-2002','%d-%m-%Y').strftime('%d%m%Y')\n",
    "int(x)\n",
    "\n",
    "for i in range(0,len(df)):\n",
    "    df['Date'][i]=int(datetime.datetime.strptime(str(df['Date'][i]),'%d-%m-%Y').strftime('%d%m%Y'))"
   ]
  },
  {
   "cell_type": "code",
   "execution_count": 427,
   "metadata": {},
   "outputs": [
    {
     "data": {
      "text/html": [
       "<div>\n",
       "<style scoped>\n",
       "    .dataframe tbody tr th:only-of-type {\n",
       "        vertical-align: middle;\n",
       "    }\n",
       "\n",
       "    .dataframe tbody tr th {\n",
       "        vertical-align: top;\n",
       "    }\n",
       "\n",
       "    .dataframe thead th {\n",
       "        text-align: right;\n",
       "    }\n",
       "</style>\n",
       "<table border=\"1\" class=\"dataframe\">\n",
       "  <thead>\n",
       "    <tr style=\"text-align: right;\">\n",
       "      <th></th>\n",
       "      <th>Date</th>\n",
       "      <th>Open</th>\n",
       "      <th>High</th>\n",
       "      <th>Low</th>\n",
       "      <th>Close</th>\n",
       "      <th>Adj Close</th>\n",
       "      <th>Volume</th>\n",
       "    </tr>\n",
       "  </thead>\n",
       "  <tbody>\n",
       "    <tr>\n",
       "      <th>0</th>\n",
       "      <td>6092017</td>\n",
       "      <td>168.000000</td>\n",
       "      <td>181.850006</td>\n",
       "      <td>167.000000</td>\n",
       "      <td>174.699997</td>\n",
       "      <td>174.699997</td>\n",
       "      <td>1846449</td>\n",
       "    </tr>\n",
       "    <tr>\n",
       "      <th>1</th>\n",
       "      <td>7092017</td>\n",
       "      <td>176.300003</td>\n",
       "      <td>182.000000</td>\n",
       "      <td>173.000000</td>\n",
       "      <td>180.000000</td>\n",
       "      <td>180.000000</td>\n",
       "      <td>627391</td>\n",
       "    </tr>\n",
       "    <tr>\n",
       "      <th>2</th>\n",
       "      <td>8092017</td>\n",
       "      <td>185.050003</td>\n",
       "      <td>190.000000</td>\n",
       "      <td>182.750000</td>\n",
       "      <td>184.449997</td>\n",
       "      <td>184.449997</td>\n",
       "      <td>944785</td>\n",
       "    </tr>\n",
       "    <tr>\n",
       "      <th>3</th>\n",
       "      <td>11092017</td>\n",
       "      <td>186.800003</td>\n",
       "      <td>188.100006</td>\n",
       "      <td>181.850006</td>\n",
       "      <td>184.500000</td>\n",
       "      <td>184.500000</td>\n",
       "      <td>415569</td>\n",
       "    </tr>\n",
       "    <tr>\n",
       "      <th>4</th>\n",
       "      <td>12092017</td>\n",
       "      <td>187.199997</td>\n",
       "      <td>189.449997</td>\n",
       "      <td>184.350006</td>\n",
       "      <td>186.199997</td>\n",
       "      <td>186.199997</td>\n",
       "      <td>321876</td>\n",
       "    </tr>\n",
       "  </tbody>\n",
       "</table>\n",
       "</div>"
      ],
      "text/plain": [
       "       Date        Open        High         Low       Close   Adj Close  \\\n",
       "0   6092017  168.000000  181.850006  167.000000  174.699997  174.699997   \n",
       "1   7092017  176.300003  182.000000  173.000000  180.000000  180.000000   \n",
       "2   8092017  185.050003  190.000000  182.750000  184.449997  184.449997   \n",
       "3  11092017  186.800003  188.100006  181.850006  184.500000  184.500000   \n",
       "4  12092017  187.199997  189.449997  184.350006  186.199997  186.199997   \n",
       "\n",
       "    Volume  \n",
       "0  1846449  \n",
       "1   627391  \n",
       "2   944785  \n",
       "3   415569  \n",
       "4   321876  "
      ]
     },
     "execution_count": 427,
     "metadata": {},
     "output_type": "execute_result"
    }
   ],
   "source": [
    "df.head()"
   ]
  },
  {
   "cell_type": "code",
   "execution_count": null,
   "metadata": {},
   "outputs": [],
   "source": []
  },
  {
   "cell_type": "code",
   "execution_count": null,
   "metadata": {},
   "outputs": [],
   "source": []
  },
  {
   "cell_type": "code",
   "execution_count": 439,
   "metadata": {},
   "outputs": [],
   "source": [
    "#prices_X = df[['Date']]\n",
    "prices_X = df[['Open','Volume']]"
   ]
  },
  {
   "cell_type": "code",
   "execution_count": 440,
   "metadata": {},
   "outputs": [
    {
     "data": {
      "text/plain": [
       "(161, 2)"
      ]
     },
     "execution_count": 440,
     "metadata": {},
     "output_type": "execute_result"
    }
   ],
   "source": [
    "prices_X.shape"
   ]
  },
  {
   "cell_type": "code",
   "execution_count": 441,
   "metadata": {},
   "outputs": [],
   "source": [
    "#removing last 20 datapoints\n",
    "prices_X_train = prices_X[:-10]"
   ]
  },
  {
   "cell_type": "code",
   "execution_count": 442,
   "metadata": {},
   "outputs": [
    {
     "data": {
      "text/plain": [
       "(151, 2)"
      ]
     },
     "execution_count": 442,
     "metadata": {},
     "output_type": "execute_result"
    }
   ],
   "source": [
    "prices_X_train.shape"
   ]
  },
  {
   "cell_type": "code",
   "execution_count": 443,
   "metadata": {},
   "outputs": [],
   "source": [
    "# last 20 data points\n",
    "prices_X_test = prices_X[-10:]"
   ]
  },
  {
   "cell_type": "code",
   "execution_count": 444,
   "metadata": {},
   "outputs": [
    {
     "data": {
      "text/plain": [
       "(161, 7)"
      ]
     },
     "execution_count": 444,
     "metadata": {},
     "output_type": "execute_result"
    }
   ],
   "source": [
    "df.shape"
   ]
  },
  {
   "cell_type": "code",
   "execution_count": 445,
   "metadata": {},
   "outputs": [
    {
     "data": {
      "text/plain": [
       "(151,)"
      ]
     },
     "execution_count": 445,
     "metadata": {},
     "output_type": "execute_result"
    }
   ],
   "source": [
    "prices_y_train = df['Close'][:-10].get_values()\n",
    "\n",
    "prices_y_test =df['Close'][-10:].get_values()\n",
    "\n",
    "prices_y_train.shape"
   ]
  },
  {
   "cell_type": "code",
   "execution_count": 446,
   "metadata": {},
   "outputs": [
    {
     "data": {
      "text/plain": [
       "LinearRegression(copy_X=True, fit_intercept=True, n_jobs=1, normalize=False)"
      ]
     },
     "execution_count": 446,
     "metadata": {},
     "output_type": "execute_result"
    }
   ],
   "source": [
    "# creating linear reg obj\n",
    "\n",
    "regr = linear_model.LinearRegression()\n",
    "\n",
    "regr.fit(prices_X_train,prices_y_train)"
   ]
  },
  {
   "cell_type": "code",
   "execution_count": 447,
   "metadata": {},
   "outputs": [],
   "source": [
    "prices_y_pred = regr.predict(prices_X_test)"
   ]
  },
  {
   "cell_type": "code",
   "execution_count": 448,
   "metadata": {},
   "outputs": [
    {
     "data": {
      "text/html": [
       "<div>\n",
       "<style scoped>\n",
       "    .dataframe tbody tr th:only-of-type {\n",
       "        vertical-align: middle;\n",
       "    }\n",
       "\n",
       "    .dataframe tbody tr th {\n",
       "        vertical-align: top;\n",
       "    }\n",
       "\n",
       "    .dataframe thead th {\n",
       "        text-align: right;\n",
       "    }\n",
       "</style>\n",
       "<table border=\"1\" class=\"dataframe\">\n",
       "  <thead>\n",
       "    <tr style=\"text-align: right;\">\n",
       "      <th></th>\n",
       "      <th>Open</th>\n",
       "      <th>Volume</th>\n",
       "    </tr>\n",
       "  </thead>\n",
       "  <tbody>\n",
       "    <tr>\n",
       "      <th>151</th>\n",
       "      <td>238.449997</td>\n",
       "      <td>254310</td>\n",
       "    </tr>\n",
       "    <tr>\n",
       "      <th>152</th>\n",
       "      <td>242.800003</td>\n",
       "      <td>236610</td>\n",
       "    </tr>\n",
       "    <tr>\n",
       "      <th>153</th>\n",
       "      <td>241.500000</td>\n",
       "      <td>356855</td>\n",
       "    </tr>\n",
       "    <tr>\n",
       "      <th>154</th>\n",
       "      <td>245.949997</td>\n",
       "      <td>308455</td>\n",
       "    </tr>\n",
       "    <tr>\n",
       "      <th>155</th>\n",
       "      <td>248.250000</td>\n",
       "      <td>285423</td>\n",
       "    </tr>\n",
       "    <tr>\n",
       "      <th>156</th>\n",
       "      <td>249.100006</td>\n",
       "      <td>454600</td>\n",
       "    </tr>\n",
       "    <tr>\n",
       "      <th>157</th>\n",
       "      <td>252.800003</td>\n",
       "      <td>306490</td>\n",
       "    </tr>\n",
       "    <tr>\n",
       "      <th>158</th>\n",
       "      <td>241.050003</td>\n",
       "      <td>160326</td>\n",
       "    </tr>\n",
       "    <tr>\n",
       "      <th>159</th>\n",
       "      <td>238.600006</td>\n",
       "      <td>149082</td>\n",
       "    </tr>\n",
       "    <tr>\n",
       "      <th>160</th>\n",
       "      <td>235.500000</td>\n",
       "      <td>125684</td>\n",
       "    </tr>\n",
       "  </tbody>\n",
       "</table>\n",
       "</div>"
      ],
      "text/plain": [
       "           Open  Volume\n",
       "151  238.449997  254310\n",
       "152  242.800003  236610\n",
       "153  241.500000  356855\n",
       "154  245.949997  308455\n",
       "155  248.250000  285423\n",
       "156  249.100006  454600\n",
       "157  252.800003  306490\n",
       "158  241.050003  160326\n",
       "159  238.600006  149082\n",
       "160  235.500000  125684"
      ]
     },
     "execution_count": 448,
     "metadata": {},
     "output_type": "execute_result"
    }
   ],
   "source": [
    "prices_X_test"
   ]
  },
  {
   "cell_type": "code",
   "execution_count": 415,
   "metadata": {},
   "outputs": [
    {
     "data": {
      "text/plain": [
       "array([227.19388525])"
      ]
     },
     "execution_count": 415,
     "metadata": {},
     "output_type": "execute_result"
    }
   ],
   "source": [
    "regr.predict(np.array([[235.5,222]]))"
   ]
  },
  {
   "cell_type": "code",
   "execution_count": 449,
   "metadata": {},
   "outputs": [],
   "source": [
    "prices_X_test_dates = prices_X_test.get_values()"
   ]
  },
  {
   "cell_type": "code",
   "execution_count": 450,
   "metadata": {},
   "outputs": [
    {
     "name": "stdout",
     "output_type": "stream",
     "text": [
      "Open Price:  238.44999700000002  Actual_Close:  238.5  Pred_Close:  236.62318800970678\n",
      "Open Price:  242.80000299999998  Actual_Close:  239.19999700000002  Pred_Close:  240.43406186636176\n",
      "Open Price:  241.5  Actual_Close:  245.649994  Pred_Close:  240.44738377873634\n",
      "Open Price:  245.94999700000002  Actual_Close:  248.55000299999998  Pred_Close:  244.04222581644316\n",
      "Open Price:  248.25  Actual_Close:  248.75  Pred_Close:  245.92012129036766\n",
      "Open Price:  249.100006  Actual_Close:  254.149994  Pred_Close:  248.3951172279074\n",
      "Open Price:  252.80000299999998  Actual_Close:  242.5  Pred_Close:  250.30292558562442\n",
      "Open Price:  241.05000299999998  Actual_Close:  237.94999700000002  Pred_Close:  238.0649833048435\n",
      "Open Price:  238.600006  Actual_Close:  233.5  Pred_Close:  235.706015986294\n",
      "Open Price:  235.5  Actual_Close:  231.850006  Pred_Close:  232.62927071034906\n"
     ]
    }
   ],
   "source": [
    "for i in range(0,len(prices_X_test)):\n",
    "    for j in range(0,len(df)):\n",
    "        if(prices_X_test_dates[i][0]==df['Open'][j]):\n",
    "            act_price = df['Close'][j]\n",
    "        \n",
    "    print(\"Open Price: \",prices_X_test_dates[i][0], \" Actual_Close: \",act_price,\" Pred_Close: \",prices_y_pred[i])"
   ]
  },
  {
   "cell_type": "code",
   "execution_count": 399,
   "metadata": {},
   "outputs": [
    {
     "data": {
      "text/plain": [
       "array([24909954.62764214])"
      ]
     },
     "execution_count": 399,
     "metadata": {},
     "output_type": "execute_result"
    }
   ],
   "source": [
    "regr.predict(27052018)"
   ]
  },
  {
   "cell_type": "code",
   "execution_count": 370,
   "metadata": {},
   "outputs": [
    {
     "data": {
      "text/plain": [
       "array([[3042018],\n",
       "       [4042018],\n",
       "       [5042018],\n",
       "       [6042018],\n",
       "       [9042018],\n",
       "       [10042018],\n",
       "       [11042018],\n",
       "       [12042018],\n",
       "       [13042018],\n",
       "       [16042018],\n",
       "       [17042018],\n",
       "       [18042018],\n",
       "       [19042018],\n",
       "       [20042018],\n",
       "       [23042018],\n",
       "       [24042018],\n",
       "       [25042018],\n",
       "       [26042018],\n",
       "       [27042018],\n",
       "       [30042018]], dtype=object)"
      ]
     },
     "execution_count": 370,
     "metadata": {},
     "output_type": "execute_result"
    }
   ],
   "source": [
    "prices_X_test_dates"
   ]
  },
  {
   "cell_type": "code",
   "execution_count": null,
   "metadata": {},
   "outputs": [],
   "source": []
  }
 ],
 "metadata": {
  "kernelspec": {
   "display_name": "Python 3",
   "language": "python",
   "name": "python3"
  },
  "language_info": {
   "codemirror_mode": {
    "name": "ipython",
    "version": 3
   },
   "file_extension": ".py",
   "mimetype": "text/x-python",
   "name": "python",
   "nbconvert_exporter": "python",
   "pygments_lexer": "ipython3",
   "version": "3.6.4"
  }
 },
 "nbformat": 4,
 "nbformat_minor": 2
}
