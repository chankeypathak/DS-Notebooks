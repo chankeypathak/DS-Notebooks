{
 "cells": [
  {
   "cell_type": "markdown",
   "metadata": {},
   "source": [
    "# Dictionary"
   ]
  },
  {
   "cell_type": "code",
   "execution_count": 1,
   "metadata": {},
   "outputs": [
    {
     "name": "stdout",
     "output_type": "stream",
     "text": [
      "{1: 'a', 'b': 'bachu'}\n"
     ]
    }
   ],
   "source": [
    "dic = {1:\"a\",\"b\":\"bachu\"};\n",
    "\n",
    "print(dic);"
   ]
  },
  {
   "cell_type": "code",
   "execution_count": 2,
   "metadata": {},
   "outputs": [
    {
     "name": "stdout",
     "output_type": "stream",
     "text": [
      "a\n",
      "bachu\n"
     ]
    }
   ],
   "source": [
    "print(dic[1]);\n",
    "\n",
    "print(dic[\"b\"]);"
   ]
  },
  {
   "cell_type": "code",
   "execution_count": 3,
   "metadata": {
    "scrolled": true
   },
   "outputs": [
    {
     "name": "stdout",
     "output_type": "stream",
     "text": [
      "bachu\n",
      "abc\n",
      "abc\n",
      "1\n"
     ]
    }
   ],
   "source": [
    "dic = {\n",
    "    \"a\":{\"b\":\"bachu\"},\n",
    "    1:\"abc\",\n",
    "    \"b\":[1,2,3],\n",
    "    3:{1,2,3},\n",
    "    4:(1,2,3)\n",
    "};\n",
    "\n",
    "print(dic['a']['b']);\n",
    "\n",
    "print(dic[1]);\n",
    "\n",
    "#or\n",
    "\n",
    "print(dic.get(1));\n",
    "\n",
    "dic[4]=dic[4]+(4,);\n",
    "print(dic[4][0]);"
   ]
  },
  {
   "cell_type": "code",
   "execution_count": 10,
   "metadata": {},
   "outputs": [
    {
     "name": "stdout",
     "output_type": "stream",
     "text": [
      "[1, 2, 3, 4, 5]\n"
     ]
    }
   ],
   "source": [
    "dic[\"b\"].append(4);\n",
    "\n",
    "dic[\"b\"].insert(4,5);\n",
    "\n",
    "print(dic[\"b\"]);"
   ]
  },
  {
   "cell_type": "markdown",
   "metadata": {},
   "source": [
    "# DEL"
   ]
  },
  {
   "cell_type": "code",
   "execution_count": 57,
   "metadata": {},
   "outputs": [
    {
     "name": "stdout",
     "output_type": "stream",
     "text": [
      "{'b': 'bachu'}\n",
      "{1: 'abc', 'b': [1, 2, 3], 3: {1, 2, 3}}\n"
     ]
    }
   ],
   "source": [
    "dic = {\n",
    "    \"a\":{\"b\":\"bachu\"},\n",
    "    1:\"abc\",\n",
    "    \"b\":[1,2,3],\n",
    "    3:{1,2,3},\n",
    "    4:(1,2,3)\n",
    "};\n",
    "\n",
    "print(dic.pop(\"a\"));\n",
    "\n",
    "dic.popitem(); #removes randomly\n",
    "\n",
    "print(dic);"
   ]
  },
  {
   "cell_type": "code",
   "execution_count": 60,
   "metadata": {},
   "outputs": [
    {
     "name": "stdout",
     "output_type": "stream",
     "text": [
      "{'a': {'b': 'bachu'}, 'b': [1, 2, 3], 3: {1, 2, 3}, 4: (1, 2, 3)}\n"
     ]
    },
    {
     "ename": "NameError",
     "evalue": "name 'dic' is not defined",
     "output_type": "error",
     "traceback": [
      "\u001b[1;31m---------------------------------------------------------------------------\u001b[0m",
      "\u001b[1;31mNameError\u001b[0m                                 Traceback (most recent call last)",
      "\u001b[1;32m<ipython-input-60-dcaeaa8f4c2a>\u001b[0m in \u001b[0;36m<module>\u001b[1;34m()\u001b[0m\n\u001b[0;32m     13\u001b[0m \u001b[1;32mdel\u001b[0m \u001b[0mdic\u001b[0m\u001b[1;33m;\u001b[0m \u001b[1;31m#removing dictionary\u001b[0m\u001b[1;33m\u001b[0m\u001b[0m\n\u001b[0;32m     14\u001b[0m \u001b[1;33m\u001b[0m\u001b[0m\n\u001b[1;32m---> 15\u001b[1;33m \u001b[0mprint\u001b[0m\u001b[1;33m(\u001b[0m\u001b[0mdic\u001b[0m\u001b[1;33m)\u001b[0m\u001b[1;33m;\u001b[0m\u001b[1;33m\u001b[0m\u001b[0m\n\u001b[0m",
      "\u001b[1;31mNameError\u001b[0m: name 'dic' is not defined"
     ]
    }
   ],
   "source": [
    "dic = {\n",
    "    \"a\":{\"b\":\"bachu\"},\n",
    "    1:\"abc\",\n",
    "    \"b\":[1,2,3],\n",
    "    3:{1,2,3},\n",
    "    4:(1,2,3)\n",
    "};\n",
    "\n",
    "del dic[1];\n",
    "\n",
    "print(dic);\n",
    "\n",
    "del dic; #removing dictionary\n",
    "\n",
    "print(dic);"
   ]
  },
  {
   "cell_type": "code",
   "execution_count": 66,
   "metadata": {},
   "outputs": [
    {
     "name": "stdout",
     "output_type": "stream",
     "text": [
      "{'a': {'b': 'bachu'}, 1: 'abc', 'b': [1, 2, 3], 3: {1, 2, 3}, 4: (1, 2, 3)}\n"
     ]
    }
   ],
   "source": [
    "dic = {\n",
    "    \"a\":{\"b\":\"bachu\"},\n",
    "    1:\"abc\",\n",
    "    \"b\":[1,2,3],\n",
    "    3:{1,2,3},\n",
    "    4:(1,2,3)\n",
    "};\n",
    "\n",
    "dic2=dic.copy();\n",
    "\n",
    "print(dic2);"
   ]
  },
  {
   "cell_type": "markdown",
   "metadata": {},
   "source": [
    "# Creating dic from list"
   ]
  },
  {
   "cell_type": "code",
   "execution_count": 22,
   "metadata": {},
   "outputs": [
    {
     "name": "stdout",
     "output_type": "stream",
     "text": [
      "{1: 10, 2: 10, 3: 10}\n"
     ]
    }
   ],
   "source": [
    "dic ={}.fromkeys([1,2,3],10); #here [1,2,3] are keys and 10 is value for every key\n",
    "\n",
    "print(dic);"
   ]
  },
  {
   "cell_type": "markdown",
   "metadata": {},
   "source": [
    "# Visualizing Dic in the form of list of tuples"
   ]
  },
  {
   "cell_type": "code",
   "execution_count": 71,
   "metadata": {},
   "outputs": [
    {
     "name": "stdout",
     "output_type": "stream",
     "text": [
      "dict_items([(2, 4), (1, 2), (6, 10)])\n"
     ]
    }
   ],
   "source": [
    "dic = {2:4,1:2,6:10};\n",
    "\n",
    "print(dic.items());"
   ]
  },
  {
   "cell_type": "code",
   "execution_count": 72,
   "metadata": {},
   "outputs": [
    {
     "name": "stdout",
     "output_type": "stream",
     "text": [
      "dict_values([4, 2, 10])\n"
     ]
    }
   ],
   "source": [
    "print(dic.values());"
   ]
  },
  {
   "cell_type": "code",
   "execution_count": 73,
   "metadata": {},
   "outputs": [
    {
     "name": "stdout",
     "output_type": "stream",
     "text": [
      "dict_keys([2, 1, 6])\n"
     ]
    }
   ],
   "source": [
    "print(dic.keys());"
   ]
  },
  {
   "cell_type": "code",
   "execution_count": 74,
   "metadata": {},
   "outputs": [
    {
     "name": "stdout",
     "output_type": "stream",
     "text": [
      "4\n",
      "2\n",
      "10\n"
     ]
    }
   ],
   "source": [
    "for key in dic.keys():\n",
    "    print(dic[key]);"
   ]
  },
  {
   "cell_type": "code",
   "execution_count": 75,
   "metadata": {},
   "outputs": [
    {
     "name": "stdout",
     "output_type": "stream",
     "text": [
      "['__class__', '__contains__', '__delattr__', '__delitem__', '__dir__', '__doc__', '__eq__', '__format__', '__ge__', '__getattribute__', '__getitem__', '__gt__', '__hash__', '__init__', '__init_subclass__', '__iter__', '__le__', '__len__', '__lt__', '__ne__', '__new__', '__reduce__', '__reduce_ex__', '__repr__', '__setattr__', '__setitem__', '__sizeof__', '__str__', '__subclasshook__', 'clear', 'copy', 'fromkeys', 'get', 'items', 'keys', 'pop', 'popitem', 'setdefault', 'update', 'values']\n"
     ]
    }
   ],
   "source": [
    "print(dir(dic));"
   ]
  },
  {
   "cell_type": "code",
   "execution_count": 76,
   "metadata": {},
   "outputs": [
    {
     "name": "stdout",
     "output_type": "stream",
     "text": [
      "(2, 4)\n",
      "(1, 2)\n",
      "(6, 10)\n"
     ]
    }
   ],
   "source": [
    "for pair in dic.items():\n",
    "    print(pair);"
   ]
  },
  {
   "cell_type": "markdown",
   "metadata": {},
   "source": [
    "# Using Dic Comprehension"
   ]
  },
  {
   "cell_type": "code",
   "execution_count": 78,
   "metadata": {},
   "outputs": [
    {
     "name": "stdout",
     "output_type": "stream",
     "text": [
      "{2: 4, 6: 10}\n"
     ]
    }
   ],
   "source": [
    "d= {k:v for k,v in dic.items() if v>2};\n",
    "\n",
    "print(d);"
   ]
  },
  {
   "cell_type": "code",
   "execution_count": 80,
   "metadata": {},
   "outputs": [
    {
     "name": "stdout",
     "output_type": "stream",
     "text": [
      "{20: 8, 60: 20}\n"
     ]
    }
   ],
   "source": [
    "d= {k*10:v*2 for k,v in dic.items() if v>2};\n",
    "\n",
    "print(d);"
   ]
  },
  {
   "cell_type": "code",
   "execution_count": null,
   "metadata": {
    "collapsed": true
   },
   "outputs": [],
   "source": []
  }
 ],
 "metadata": {
  "kernelspec": {
   "display_name": "Python 3",
   "language": "python",
   "name": "python3"
  },
  "language_info": {
   "codemirror_mode": {
    "name": "ipython",
    "version": 3
   },
   "file_extension": ".py",
   "mimetype": "text/x-python",
   "name": "python",
   "nbconvert_exporter": "python",
   "pygments_lexer": "ipython3",
   "version": "3.6.4"
  }
 },
 "nbformat": 4,
 "nbformat_minor": 2
}
