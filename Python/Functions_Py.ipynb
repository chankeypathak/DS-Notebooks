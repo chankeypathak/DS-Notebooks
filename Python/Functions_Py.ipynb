{
 "cells": [
  {
   "cell_type": "markdown",
   "metadata": {},
   "source": [
    "# Functions"
   ]
  },
  {
   "cell_type": "code",
   "execution_count": 2,
   "metadata": {},
   "outputs": [
    {
     "name": "stdout",
     "output_type": "stream",
     "text": [
      "3\n"
     ]
    }
   ],
   "source": [
    "def add(a,b):\n",
    "    #This Doc string\n",
    "    \"\"\"\n",
    "        This method returns addition of nums\n",
    "    \"\"\"\n",
    "    return a+b;\n",
    "print(add(1,2));"
   ]
  },
  {
   "cell_type": "markdown",
   "metadata": {},
   "source": [
    "# DOC String"
   ]
  },
  {
   "cell_type": "code",
   "execution_count": 5,
   "metadata": {},
   "outputs": [
    {
     "name": "stdout",
     "output_type": "stream",
     "text": [
      "\n",
      "        This method returns addition of nums\n",
      "    \n",
      "3\n"
     ]
    }
   ],
   "source": [
    "def add(a,b):\n",
    "    #This Doc string\n",
    "    \"\"\"\n",
    "        This method returns addition of nums\n",
    "    \"\"\"\n",
    "    return a+b;\n",
    "\n",
    "print(add.__doc__);\n",
    "print(add(1,2));\n",
    "\n"
   ]
  },
  {
   "cell_type": "code",
   "execution_count": 7,
   "metadata": {},
   "outputs": [
    {
     "name": "stdout",
     "output_type": "stream",
     "text": [
      "22\n"
     ]
    }
   ],
   "source": [
    "def addLi(lst):\n",
    "    return sum(lst);\n",
    "\n",
    "print(addLi([12,6,3,1]));"
   ]
  },
  {
   "cell_type": "markdown",
   "metadata": {},
   "source": [
    "# all() \n",
    "#### it will return true if all elemets are true else false"
   ]
  },
  {
   "cell_type": "code",
   "execution_count": 10,
   "metadata": {},
   "outputs": [
    {
     "name": "stdout",
     "output_type": "stream",
     "text": [
      "True False True\n"
     ]
    }
   ],
   "source": [
    "lst = [1,2,3]\n",
    "li=[0,1,2]; # 0 indicates false here so it returns false\n",
    "li2=[];\n",
    "\n",
    "print(all(lst),all(li),all(li2))"
   ]
  },
  {
   "cell_type": "markdown",
   "metadata": {},
   "source": [
    "# divmod() it will return tuple containing quotient and remainder"
   ]
  },
  {
   "cell_type": "code",
   "execution_count": 12,
   "metadata": {},
   "outputs": [
    {
     "name": "stdout",
     "output_type": "stream",
     "text": [
      "(2, 1)\n"
     ]
    }
   ],
   "source": [
    "print(divmod(5,2));"
   ]
  },
  {
   "cell_type": "markdown",
   "metadata": {},
   "source": [
    "# enumerate(iterable,start=0) second param is optional\n",
    "\n",
    "#### It will return pair of index and value at that index"
   ]
  },
  {
   "cell_type": "code",
   "execution_count": 17,
   "metadata": {},
   "outputs": [
    {
     "name": "stdout",
     "output_type": "stream",
     "text": [
      "index 0 and val 2\n",
      "index 1 and val 4\n",
      "index 2 and val 6\n",
      "index 3 and val 8\n"
     ]
    }
   ],
   "source": [
    "nums = [2,4,6,8];\n",
    "\n",
    "for ind,val in enumerate(nums):\n",
    "    print(\"index {0} and val {1}\".format(ind,val));"
   ]
  },
  {
   "cell_type": "code",
   "execution_count": 19,
   "metadata": {},
   "outputs": [
    {
     "name": "stdout",
     "output_type": "stream",
     "text": [
      "index 2 and val 2\n",
      "index 3 and val 4\n",
      "index 4 and val 6\n",
      "index 5 and val 8\n"
     ]
    }
   ],
   "source": [
    "for ind,val in enumerate(nums,2): #here index starts from 2\n",
    "    print(\"index {0} and val {1}\".format(ind,val));"
   ]
  },
  {
   "cell_type": "markdown",
   "metadata": {},
   "source": [
    "# Filter"
   ]
  },
  {
   "cell_type": "code",
   "execution_count": 2,
   "metadata": {},
   "outputs": [
    {
     "name": "stdout",
     "output_type": "stream",
     "text": [
      "<class 'range'>\n",
      "[-5, -4, -3, -2, -1, 0, 1, 2, 3, 4]\n",
      "[1, 2, 3, 4]\n"
     ]
    }
   ],
   "source": [
    "def retPosNum(num):\n",
    "    if(num>0):\n",
    "        return num;\n",
    "\n",
    "numLst=range(-5,5); #creates list from -5 to 5\n",
    "\n",
    "print(type(numLst));\n",
    "\n",
    "print(list(numLst));\n",
    "\n",
    "# here filter takes 2 params first is Function name and\n",
    "# second is the parameter which function takes\n",
    "# here the list of numbers will be passed to function \n",
    "# one by one and if condition satisfied that num will\n",
    "# be stored in list or else skiped\n",
    "positiveNums=list(filter(retPosNum,numLst));\n",
    "\n",
    "print(positiveNums);"
   ]
  },
  {
   "cell_type": "markdown",
   "metadata": {},
   "source": [
    "# isinstance()"
   ]
  },
  {
   "cell_type": "code",
   "execution_count": 26,
   "metadata": {},
   "outputs": [
    {
     "name": "stdout",
     "output_type": "stream",
     "text": [
      "True\n"
     ]
    }
   ],
   "source": [
    "a=10;\n",
    "\n",
    "#checks if var is of type int\n",
    "print(isinstance(a,int))"
   ]
  },
  {
   "cell_type": "markdown",
   "metadata": {},
   "source": [
    "# map()"
   ]
  },
  {
   "cell_type": "markdown",
   "metadata": {},
   "source": [
    "Example: Square of nums"
   ]
  },
  {
   "cell_type": "code",
   "execution_count": 30,
   "metadata": {},
   "outputs": [
    {
     "name": "stdout",
     "output_type": "stream",
     "text": [
      "[1, 4, 9, 16]\n"
     ]
    }
   ],
   "source": [
    "nums= [1,2,3,4];\n",
    "\n",
    "def square(num):\n",
    "    return num**2;\n",
    "\n",
    "#similar to filter()\n",
    "sq = list(map(square,nums));\n",
    "\n",
    "print(sq);"
   ]
  },
  {
   "cell_type": "markdown",
   "metadata": {},
   "source": [
    "# Difference between Map and Filter"
   ]
  },
  {
   "cell_type": "markdown",
   "metadata": {},
   "source": [
    "The difference is Filter decides weather to keep the value or discard the value,\n",
    "\n",
    "Map is used to map the result for each and every element in the list."
   ]
  },
  {
   "cell_type": "markdown",
   "metadata": {},
   "source": [
    "# reduce()\n",
    "\n",
    "example: product of nums in lst"
   ]
  },
  {
   "cell_type": "code",
   "execution_count": 34,
   "metadata": {},
   "outputs": [
    {
     "name": "stdout",
     "output_type": "stream",
     "text": [
      "120\n"
     ]
    }
   ],
   "source": [
    "from functools import reduce\n",
    "\n",
    "def prod(x,y):\n",
    "    return x*y;\n",
    "\n",
    "lst=[2,3,4,5];\n",
    "\n",
    "product = reduce(prod,lst);\n",
    "\n",
    "print(product);"
   ]
  },
  {
   "cell_type": "markdown",
   "metadata": {},
   "source": [
    "Explanation:\n",
    "    reduce() function will be operated as below for the above ex:\n",
    "    \n",
    "    lst=[1,2,3,4]\n",
    "    \n",
    "    step1: 1*2 = 2\n",
    "    step2: 2*3 = 6 #first param will be result of step1;\n",
    "        .\n",
    "        .\n",
    "        .\n",
    "    "
   ]
  },
  {
   "cell_type": "markdown",
   "metadata": {},
   "source": [
    "# Default args\n",
    "\n",
    "Default args should be at end."
   ]
  },
  {
   "cell_type": "code",
   "execution_count": 39,
   "metadata": {},
   "outputs": [
    {
     "name": "stdout",
     "output_type": "stream",
     "text": [
      "4\n",
      "5\n"
     ]
    }
   ],
   "source": [
    "def add(x,y=1):\n",
    "    return x+y;\n",
    "\n",
    "print(add(3));\n",
    "\n",
    "print(add(3,2));"
   ]
  },
  {
   "cell_type": "markdown",
   "metadata": {},
   "source": [
    "# Keyword Arguments\n",
    "Variable no.of arguments"
   ]
  },
  {
   "cell_type": "code",
   "execution_count": 51,
   "metadata": {},
   "outputs": [
    {
     "name": "stdout",
     "output_type": "stream",
     "text": [
      "{'a': 1, 'b': 2}\n",
      "{'a': 1, 'name': 'Akarsh', 'learning': 'ML'}\n"
     ]
    }
   ],
   "source": [
    "def varNoOfArgs(**args):\n",
    "    if args:\n",
    "        print(args)\n",
    "            \n",
    "varNoOfArgs(a=1,b=2);\n",
    "\n",
    "varNoOfArgs(a=1,name=\"Akarsh\", learning=\"ML\");"
   ]
  },
  {
   "cell_type": "markdown",
   "metadata": {},
   "source": [
    "# Arbitary Arguments"
   ]
  },
  {
   "cell_type": "code",
   "execution_count": 52,
   "metadata": {},
   "outputs": [
    {
     "name": "stdout",
     "output_type": "stream",
     "text": [
      "Value is:  ('akarsh', 'bachu')\n",
      "Value is:  ('ab', 'cd', 'ef')\n"
     ]
    }
   ],
   "source": [
    "def varNoOfVals(*vals):\n",
    "    if vals:\n",
    "        print(\"Value is: \",vals)\n",
    "            \n",
    "varNoOfVals(\"akarsh\",\"bachu\");\n",
    "\n",
    "varNoOfVals(\"ab\",\"cd\",\"ef\");"
   ]
  },
  {
   "cell_type": "code",
   "execution_count": null,
   "metadata": {
    "collapsed": true
   },
   "outputs": [],
   "source": []
  }
 ],
 "metadata": {
  "kernelspec": {
   "display_name": "Python 3",
   "language": "python",
   "name": "python3"
  },
  "language_info": {
   "codemirror_mode": {
    "name": "ipython",
    "version": 3
   },
   "file_extension": ".py",
   "mimetype": "text/x-python",
   "name": "python",
   "nbconvert_exporter": "python",
   "pygments_lexer": "ipython3",
   "version": "3.6.4"
  }
 },
 "nbformat": 4,
 "nbformat_minor": 2
}
