{
 "cells": [
  {
   "cell_type": "markdown",
   "metadata": {},
   "source": [
    "# Sets"
   ]
  },
  {
   "cell_type": "markdown",
   "metadata": {},
   "source": [
    "1) Unordered\n",
    "2) no duplicates\n",
    "3) Sets Can be used to perform Mathamatical operations Like Union, intersection,\n",
    "symmetric differences etc."
   ]
  },
  {
   "cell_type": "code",
   "execution_count": 8,
   "metadata": {},
   "outputs": [
    {
     "name": "stdout",
     "output_type": "stream",
     "text": [
      "{1, 2, 3}\n"
     ]
    }
   ],
   "source": [
    "s = {1,2,3,3,3,3,3,3,3};\n",
    "\n",
    "print(s);"
   ]
  },
  {
   "cell_type": "code",
   "execution_count": 9,
   "metadata": {},
   "outputs": [
    {
     "name": "stdout",
     "output_type": "stream",
     "text": [
      "{1, 2, 3, 4}\n"
     ]
    }
   ],
   "source": [
    "#add Ele\n",
    "\n",
    "s.add(4);\n",
    "\n",
    "print(s);"
   ]
  },
  {
   "cell_type": "code",
   "execution_count": 10,
   "metadata": {},
   "outputs": [
    {
     "name": "stdout",
     "output_type": "stream",
     "text": [
      "{1, 2, 3, 4, 6, 7}\n"
     ]
    }
   ],
   "source": [
    "# add Multiple eles\n",
    "\n",
    "s.update([7,6,1,1,2]);\n",
    "\n",
    "print(s);"
   ]
  },
  {
   "cell_type": "code",
   "execution_count": 6,
   "metadata": {},
   "outputs": [
    {
     "name": "stdout",
     "output_type": "stream",
     "text": [
      "{1, 2, 3, 4, 5, 99, 8, 9}\n"
     ]
    }
   ],
   "source": [
    "# adding li and set \n",
    "\n",
    "s.update([8,9],{1,2,3,4,4,4,4,4,99});\n",
    "\n",
    "print(s);"
   ]
  },
  {
   "cell_type": "markdown",
   "metadata": {},
   "source": [
    "# Remove"
   ]
  },
  {
   "cell_type": "code",
   "execution_count": 12,
   "metadata": {},
   "outputs": [
    {
     "name": "stdout",
     "output_type": "stream",
     "text": [
      "{1, 2, 34, 4}\n"
     ]
    }
   ],
   "source": [
    "s= {1,2,3,3,34,4};\n",
    "\n",
    "#using Value\n",
    "s.remove(3);\n",
    "\n",
    "print(s);"
   ]
  },
  {
   "cell_type": "code",
   "execution_count": 13,
   "metadata": {},
   "outputs": [
    {
     "name": "stdout",
     "output_type": "stream",
     "text": [
      "{1, 34, 4}\n"
     ]
    }
   ],
   "source": [
    "# Using Index\n",
    "\n",
    "s.discard(2);\n",
    "\n",
    "print(s);"
   ]
  },
  {
   "cell_type": "markdown",
   "metadata": {},
   "source": [
    "# Pop it will remove one ele randomly"
   ]
  },
  {
   "cell_type": "code",
   "execution_count": 14,
   "metadata": {},
   "outputs": [
    {
     "name": "stdout",
     "output_type": "stream",
     "text": [
      "{34, 4}\n"
     ]
    }
   ],
   "source": [
    "s.pop();\n",
    "\n",
    "print(s);"
   ]
  },
  {
   "cell_type": "code",
   "execution_count": 15,
   "metadata": {},
   "outputs": [
    {
     "name": "stdout",
     "output_type": "stream",
     "text": [
      "set()\n"
     ]
    }
   ],
   "source": [
    "s.clear();\n",
    "\n",
    "print(s);"
   ]
  },
  {
   "cell_type": "markdown",
   "metadata": {},
   "source": [
    "Observation: Clears total set and returns empty set"
   ]
  },
  {
   "cell_type": "markdown",
   "metadata": {},
   "source": [
    "# Set Operations"
   ]
  },
  {
   "cell_type": "markdown",
   "metadata": {},
   "source": [
    "### Union"
   ]
  },
  {
   "cell_type": "code",
   "execution_count": 17,
   "metadata": {},
   "outputs": [
    {
     "name": "stdout",
     "output_type": "stream",
     "text": [
      "{1, 2, 3, 4, 6, 8}\n",
      "{1, 2, 3, 4, 6, 8}\n"
     ]
    }
   ],
   "source": [
    "s1 = {1,2,3,4};\n",
    "\n",
    "s2 = {2,3,6,8};\n",
    "\n",
    "print(s1 | s2); \n",
    "\n",
    "# Or\n",
    "\n",
    "print(s1.union(s2));"
   ]
  },
  {
   "cell_type": "markdown",
   "metadata": {},
   "source": [
    "# Intersection"
   ]
  },
  {
   "cell_type": "code",
   "execution_count": 18,
   "metadata": {},
   "outputs": [
    {
     "name": "stdout",
     "output_type": "stream",
     "text": [
      "{2, 3}\n",
      "{2, 3}\n"
     ]
    }
   ],
   "source": [
    "s1 = {1,2,3,4};\n",
    "\n",
    "s2 = {2,3,6,8};\n",
    "\n",
    "print(s1 & s2); \n",
    "\n",
    "# Or\n",
    "\n",
    "print(s1.intersection(s2));"
   ]
  },
  {
   "cell_type": "markdown",
   "metadata": {},
   "source": [
    "# Difference"
   ]
  },
  {
   "cell_type": "code",
   "execution_count": 22,
   "metadata": {},
   "outputs": [
    {
     "name": "stdout",
     "output_type": "stream",
     "text": [
      "{1, 4}\n",
      "{8, 6}\n",
      "{1, 4}\n"
     ]
    }
   ],
   "source": [
    "print(s1 - s2); #prints that are only in s1 not in s2\n",
    "\n",
    "print(s2 - s1); #reverse of above\n",
    "\n",
    "# or\n",
    "\n",
    "print(s1.difference(s2));"
   ]
  },
  {
   "cell_type": "markdown",
   "metadata": {},
   "source": [
    "# Symmetric Difference (it removes intersection elements)\n",
    "# (A union B) - (A intersection B)"
   ]
  },
  {
   "cell_type": "code",
   "execution_count": 27,
   "metadata": {},
   "outputs": [
    {
     "name": "stdout",
     "output_type": "stream",
     "text": [
      "{1, 4, 6, 8}\n",
      "{1, 4, 6, 8}\n"
     ]
    }
   ],
   "source": [
    "s1 = {1,2,3,4};\n",
    "\n",
    "s2 = {2,3,6,8};\n",
    "\n",
    "print(s1.symmetric_difference(s2));\n",
    "\n",
    "#Or\n",
    "\n",
    "print(s1 ^ s2);"
   ]
  },
  {
   "cell_type": "markdown",
   "metadata": {},
   "source": [
    "# Subset"
   ]
  },
  {
   "cell_type": "code",
   "execution_count": 26,
   "metadata": {},
   "outputs": [
    {
     "name": "stdout",
     "output_type": "stream",
     "text": [
      "False\n",
      "True\n"
     ]
    }
   ],
   "source": [
    "print(s2.issubset(s1));\n",
    "\n",
    "s1={1,2,3,4,5}\n",
    "s2={1,2}\n",
    "\n",
    "print(s2.issubset(s1));"
   ]
  },
  {
   "cell_type": "markdown",
   "metadata": {},
   "source": [
    "# Frozen Sets -> Immutable like 'final' in java"
   ]
  },
  {
   "cell_type": "markdown",
   "metadata": {},
   "source": [
    "Sets are mutable and not Hashable.\n",
    "\n",
    "Frozen Sets are immutable and Hashable and can be used as keys to a dictionary. "
   ]
  },
  {
   "cell_type": "code",
   "execution_count": 4,
   "metadata": {},
   "outputs": [
    {
     "name": "stdout",
     "output_type": "stream",
     "text": [
      "frozenset({1, 2, 3, 4, 5, 6, 7, 8, 9})\n",
      "frozenset({2, 4})\n",
      "frozenset({1, 3, 5, 6, 7, 8, 9})\n",
      "frozenset({1, 2, 3, 4})\n"
     ]
    }
   ],
   "source": [
    "s1= frozenset({1,2,3,4,5});\n",
    "s2 = frozenset({2,4,6,7,8,9});\n",
    "\n",
    "print(s1 | s2);\n",
    "\n",
    "print(s1 & s2);\n",
    "\n",
    "print(s1 ^ s2);\n",
    "\n",
    "s3 = frozenset([1,2,3,4]);\n",
    "\n",
    "print(s3);"
   ]
  },
  {
   "cell_type": "code",
   "execution_count": null,
   "metadata": {
    "collapsed": true
   },
   "outputs": [],
   "source": []
  }
 ],
 "metadata": {
  "kernelspec": {
   "display_name": "Python 3",
   "language": "python",
   "name": "python3"
  },
  "language_info": {
   "codemirror_mode": {
    "name": "ipython",
    "version": 3
   },
   "file_extension": ".py",
   "mimetype": "text/x-python",
   "name": "python",
   "nbconvert_exporter": "python",
   "pygments_lexer": "ipython3",
   "version": "3.6.4"
  }
 },
 "nbformat": 4,
 "nbformat_minor": 2
}
