{
 "cells": [
  {
   "cell_type": "markdown",
   "metadata": {},
   "source": [
    "# Rand Num Generator(Uniform Distribution)"
   ]
  },
  {
   "cell_type": "code",
   "execution_count": 1,
   "metadata": {},
   "outputs": [],
   "source": [
    "import random"
   ]
  },
  {
   "cell_type": "code",
   "execution_count": 2,
   "metadata": {},
   "outputs": [
    {
     "data": {
      "text/plain": [
       "0.9252182376522041"
      ]
     },
     "execution_count": 2,
     "metadata": {},
     "output_type": "execute_result"
    }
   ],
   "source": [
    "# generates unifor rand num between 0-1\n",
    "random.random() "
   ]
  },
  {
   "cell_type": "code",
   "execution_count": 3,
   "metadata": {},
   "outputs": [
    {
     "data": {
      "text/plain": [
       "(150, 4)"
      ]
     },
     "execution_count": 3,
     "metadata": {},
     "output_type": "execute_result"
    }
   ],
   "source": [
    "from sklearn import datasets\n",
    "\n",
    "iris = datasets.load_iris()\n",
    "\n",
    "d = iris.data\n",
    "\n",
    "d.shape"
   ]
  },
  {
   "cell_type": "code",
   "execution_count": 4,
   "metadata": {},
   "outputs": [],
   "source": [
    "# converting  numpy array to data frames\n",
    "import pandas as pd\n",
    "df = pd.DataFrame(data=d,    # values\n",
    "              index=range(0,150),    \n",
    "              columns=['pl','pw','sl','sw']) # 1st row as the column names"
   ]
  },
  {
   "cell_type": "markdown",
   "metadata": {},
   "source": [
    "Note: above is for my practice"
   ]
  },
  {
   "cell_type": "markdown",
   "metadata": {},
   "source": [
    "### Creating sample of 30 pts from 150 pts Randomly"
   ]
  },
  {
   "cell_type": "code",
   "execution_count": 5,
   "metadata": {},
   "outputs": [
    {
     "data": {
      "text/plain": [
       "29"
      ]
     },
     "execution_count": 5,
     "metadata": {},
     "output_type": "execute_result"
    }
   ],
   "source": [
    "n = 150\n",
    "\n",
    "m = 30\n",
    "\n",
    "p = m/n\n",
    "\n",
    "sample = [];\n",
    "\n",
    "for i in range(0,n):\n",
    "    if random.random() <= p:\n",
    "        sample.append(d[i,:])\n",
    "len(sample) #it might not be exactly 30"
   ]
  },
  {
   "cell_type": "code",
   "execution_count": 9,
   "metadata": {},
   "outputs": [
    {
     "data": {
      "text/plain": [
       "(0.2,\n",
       " [array([5.4, 3.9, 1.7, 0.4]),\n",
       "  array([5. , 3.4, 1.5, 0.2]),\n",
       "  array([4.8, 3. , 1.4, 0.1]),\n",
       "  array([5.8, 4. , 1.2, 0.2]),\n",
       "  array([5.1, 3.5, 1.4, 0.3]),\n",
       "  array([4.7, 3.2, 1.6, 0.2]),\n",
       "  array([5.5, 4.2, 1.4, 0.2]),\n",
       "  array([5.1, 3.8, 1.9, 0.4]),\n",
       "  array([5. , 3.3, 1.4, 0.2]),\n",
       "  array([6.4, 3.2, 4.5, 1.5]),\n",
       "  array([4.9, 2.4, 3.3, 1. ]),\n",
       "  array([5. , 2. , 3.5, 1. ]),\n",
       "  array([5.9, 3. , 4.2, 1.5]),\n",
       "  array([6. , 2.2, 4. , 1. ]),\n",
       "  array([6.1, 2.9, 4.7, 1.4]),\n",
       "  array([5.6, 2.9, 3.6, 1.3]),\n",
       "  array([6.3, 2.5, 4.9, 1.5]),\n",
       "  array([6.4, 2.9, 4.3, 1.3]),\n",
       "  array([6.6, 3. , 4.4, 1.4]),\n",
       "  array([6. , 2.7, 5.1, 1.6]),\n",
       "  array([7.1, 3. , 5.9, 2.1]),\n",
       "  array([6.5, 3.2, 5.1, 2. ]),\n",
       "  array([6.8, 3. , 5.5, 2.1]),\n",
       "  array([5.7, 2.5, 5. , 2. ]),\n",
       "  array([7.7, 3.8, 6.7, 2.2]),\n",
       "  array([6.4, 3.1, 5.5, 1.8]),\n",
       "  array([6. , 3. , 4.8, 1.8]),\n",
       "  array([6.3, 2.5, 5. , 1.9]),\n",
       "  array([5.9, 3. , 5.1, 1.8])])"
      ]
     },
     "execution_count": 9,
     "metadata": {},
     "output_type": "execute_result"
    }
   ],
   "source": [
    "p,sample"
   ]
  },
  {
   "cell_type": "code",
   "execution_count": null,
   "metadata": {},
   "outputs": [],
   "source": []
  },
  {
   "cell_type": "code",
   "execution_count": null,
   "metadata": {},
   "outputs": [],
   "source": []
  }
 ],
 "metadata": {
  "kernelspec": {
   "display_name": "Python 3",
   "language": "python",
   "name": "python3"
  },
  "language_info": {
   "codemirror_mode": {
    "name": "ipython",
    "version": 3
   },
   "file_extension": ".py",
   "mimetype": "text/x-python",
   "name": "python",
   "nbconvert_exporter": "python",
   "pygments_lexer": "ipython3",
   "version": "3.6.4"
  }
 },
 "nbformat": 4,
 "nbformat_minor": 2
}
