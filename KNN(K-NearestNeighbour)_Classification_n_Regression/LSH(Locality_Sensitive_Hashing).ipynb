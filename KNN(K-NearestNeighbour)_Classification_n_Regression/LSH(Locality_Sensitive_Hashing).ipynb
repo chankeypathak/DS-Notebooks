{
 "cells": [
  {
   "cell_type": "markdown",
   "metadata": {},
   "source": [
    "# LSH(Locality Sensitive Hashing) for Cosine Similarity."
   ]
  },
  {
   "cell_type": "markdown",
   "metadata": {},
   "source": [
    "### Outlook:<br>\n",
    "In this technique we divide the Data Points present in space into Slices like pizza slices then for Each Slice we will calculate Hash value and put all the Data points of one slice into one bucket of hash table, If query point is given its hash value is generated and lookedup in the hash table with the generated value, The value of this key will be the all the data points i.e slice in which query point is present, so We will calculate KNN on these data points instead of calculating KNN on whole data set, so that Time Complexity and Space Complexity are Reduced.<br>\n",
    "\n",
    "\n",
    "As Said above The space is divided into slices by Planes i.e generate a random Vector (W) with N Dim's which is normal to the plane, for each plane each W is created and Perform<br> \n",
    "(Wi.T * xi) and create a list of length 'M', M is no.of planes which is usually of size lon(n) and if  (Wi.T * xi)>=0 insert +1 into list else -1, and this list will be 'key' in the hash table and the value will be All the data points of the slice.<br>\n",
    "\n",
    "In (Wi.T * xi) Wi-> planes, xi->data points, This calculation is ntg but it decides if the point is above the plane or below the plane."
   ]
  },
  {
   "cell_type": "markdown",
   "metadata": {},
   "source": [
    "# LSH(Locality Sensitive Hashing) for Euclidean Distance"
   ]
  },
  {
   "cell_type": "markdown",
   "metadata": {},
   "source": [
    "Its same as above method with small change In the above case in the list which we have created with 'M' dimensions we have inserted values +1 or -1 depending on (Wi.T * xi) this val, but Here the region number into which the point falls is Inserted.  "
   ]
  },
  {
   "cell_type": "markdown",
   "metadata": {},
   "source": [
    "### Note: <br>\n",
    "LSH is Randomized Technique i.e It will not give the same value for every computation, So we will calculate no.of Hashes i.e for every iteration we will create different planes and do entire operation each time so that we can cover diff scenarios, by this we will get Stable Plot."
   ]
  },
  {
   "cell_type": "code",
   "execution_count": null,
   "metadata": {},
   "outputs": [],
   "source": []
  }
 ],
 "metadata": {
  "kernelspec": {
   "display_name": "Python 3",
   "language": "python",
   "name": "python3"
  },
  "language_info": {
   "codemirror_mode": {
    "name": "ipython",
    "version": 3
   },
   "file_extension": ".py",
   "mimetype": "text/x-python",
   "name": "python",
   "nbconvert_exporter": "python",
   "pygments_lexer": "ipython3",
   "version": "3.6.4"
  }
 },
 "nbformat": 4,
 "nbformat_minor": 2
}
