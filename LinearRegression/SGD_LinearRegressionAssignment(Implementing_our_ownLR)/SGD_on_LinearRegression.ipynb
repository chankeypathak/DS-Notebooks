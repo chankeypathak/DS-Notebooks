{
 "cells": [
  {
   "cell_type": "markdown",
   "metadata": {},
   "source": [
    "# Linear Regression using Stochastic Gradient Descent(SGD) on Boston House Prices"
   ]
  },
  {
   "cell_type": "code",
   "execution_count": 1,
   "metadata": {},
   "outputs": [],
   "source": [
    "from sklearn.datasets import load_boston\n",
    "import numpy as np\n",
    "import random\n",
    "import pandas as pd\n",
    "import matplotlib.pyplot as plt\n",
    "import sklearn\n",
    "from sklearn.metrics import accuracy_score\n",
    "from sklearn.preprocessing import StandardScaler\n",
    "from sklearn.linear_model import LinearRegression\n",
    "from sklearn import metrics\n",
    "from sklearn.utils import shuffle\n",
    "from sklearn.metrics import r2_score\n",
    "from datetime import datetime\n",
    "from sklearn.linear_model import SGDRegressor\n",
    "from matplotlib.pyplot import scatter"
   ]
  },
  {
   "cell_type": "code",
   "execution_count": 2,
   "metadata": {},
   "outputs": [],
   "source": [
    "boston_data = load_boston()"
   ]
  },
  {
   "cell_type": "code",
   "execution_count": 3,
   "metadata": {},
   "outputs": [],
   "source": [
    "X = boston_data.data"
   ]
  },
  {
   "cell_type": "code",
   "execution_count": 4,
   "metadata": {},
   "outputs": [
    {
     "data": {
      "text/plain": [
       "(506, 13)"
      ]
     },
     "execution_count": 4,
     "metadata": {},
     "output_type": "execute_result"
    }
   ],
   "source": [
    "X.shape"
   ]
  },
  {
   "cell_type": "markdown",
   "metadata": {},
   "source": [
    "Observation: There are 506 Data points with 13 Features"
   ]
  },
  {
   "cell_type": "code",
   "execution_count": 5,
   "metadata": {},
   "outputs": [
    {
     "data": {
      "text/plain": [
       "506"
      ]
     },
     "execution_count": 5,
     "metadata": {},
     "output_type": "execute_result"
    }
   ],
   "source": [
    "y = boston_data.target\n",
    "len(y)"
   ]
  },
  {
   "cell_type": "code",
   "execution_count": 6,
   "metadata": {},
   "outputs": [
    {
     "name": "stderr",
     "output_type": "stream",
     "text": [
      "C:\\Users\\Dell\\Anaconda3\\lib\\site-packages\\sklearn\\cross_validation.py:44: DeprecationWarning: This module was deprecated in version 0.18 in favor of the model_selection module into which all the refactored classes and functions are moved. Also note that the interface of the new CV iterators are different from that of this module. This module will be removed in 0.20.\n",
      "  \"This module will be removed in 0.20.\", DeprecationWarning)\n"
     ]
    }
   ],
   "source": [
    "from sklearn.cross_validation import train_test_split\n",
    "x_train,x_test,y_train,y_test = train_test_split(X,y,test_size=0.33)"
   ]
  },
  {
   "cell_type": "markdown",
   "metadata": {},
   "source": [
    "### Standardization"
   ]
  },
  {
   "cell_type": "code",
   "execution_count": 7,
   "metadata": {},
   "outputs": [],
   "source": [
    "std = StandardScaler()\n",
    "x_train = std.fit_transform(x_train)\n",
    "x_test = std.fit_transform(x_test)"
   ]
  },
  {
   "cell_type": "markdown",
   "metadata": {},
   "source": [
    "## Custom Linear Regression using Gradient Descent "
   ]
  },
  {
   "cell_type": "code",
   "execution_count": 8,
   "metadata": {},
   "outputs": [],
   "source": [
    "def linearRegressionGD(X,y,w = np.zeros(13),b = 0,iterations=5000,learning_rate=0.1,epsilon_val=0.004):\n",
    "    \"\"\"\n",
    "        Linear Regression Using Gradient Descent Optimization\n",
    "\n",
    "        Parameters\n",
    "        ----------\n",
    "        X : numpy array or sparse matrix of shape [n_samples,n_features]\n",
    "            Training data\n",
    "\n",
    "        y : numpy array of shape [n_samples, n_targets]\n",
    "            Target values\n",
    "\n",
    "        w:  Weight Vector first initializad with 0's\n",
    "        \n",
    "        \n",
    "        b:  y-intercept\n",
    "        \n",
    "        \n",
    "        iterations: no.of iterations\n",
    "        \n",
    "        epsilon_val: Termination Criteria\n",
    "\n",
    "        Returns\n",
    "        -------\n",
    "        w,b,cost or MSE\n",
    "        \"\"\"\n",
    "    start = datetime.now()\n",
    "    n = float(len(y))\n",
    "    costs = [];\n",
    "    decay_rate = 0.0001\n",
    "    eta=learning_rate\n",
    "    for i in range(iterations):\n",
    "        \n",
    "        #learning rate \n",
    "        eta = eta * (1.0/(1+decay_rate*i))\n",
    "        error = y -  predict(X,w,b) #y_act - y_actual\n",
    "        \n",
    "        #partial differentiation w.r.t w\n",
    "        w_grad = (-2.0/n)*(X.T.dot(error))\n",
    "        \n",
    "        #partial differentiation w.r.t b\n",
    "        b_grad = (-2.0/n)*(np.sum(error))\n",
    "        \n",
    "        #MSE\n",
    "        cost = (1.0/n)*np.sum(np.power(error,2))\n",
    "        \n",
    "        #updating weight vector\n",
    "        w = w - (eta*w_grad)\n",
    "        \n",
    "        #updating y-intercept\n",
    "        b = b - (eta*b_grad)\n",
    "        \n",
    "        costs.append(cost)\n",
    "        \n",
    "        #Stopping Criteria\n",
    "        if i==0:\n",
    "            w_prev = w;\n",
    "        else:\n",
    "            dist = (np.linalg.norm(w-w_prev))\n",
    "            w_prev = w\n",
    "            \n",
    "            #Terminates the loop when difference between w and w_prev is very less \n",
    "            if(round(dist,6)<epsilon_val):\n",
    "                print(\"no.of iterations: \",i,\"Cost: \",min(costs))\n",
    "                break;\n",
    "        \n",
    "    print(\"Time: Taken: \",datetime.now() - start)\n",
    "    return w,b,cost;\n",
    "\n",
    "\n",
    "\n",
    "def predict(x,m,c):\n",
    "    \"\"\"\n",
    "        It predicts the target value based on the input parameter values\n",
    "        \n",
    "        Parameters\n",
    "        ----------\n",
    "        x : numpy array or sparse matrix of shape [n_samples,n_features]\n",
    "            Training data\n",
    "        \n",
    "        \n",
    "    \"\"\"\n",
    "    y = np.dot(x,m) + c\n",
    "    return y\n",
    "\n",
    "\n",
    "def score(X,y,m,c):\n",
    "    \n",
    "    \"\"\"\n",
    "    It gives the Score or accuracy\n",
    "    \n",
    "    Parameters\n",
    "        ----------\n",
    "        X : numpy array or sparse matrix of shape [n_samples,n_features]\n",
    "            Training data\n",
    "            \n",
    "        y : numpy array of shape [n_samples, n_targets]\n",
    "            Target values\n",
    "            \n",
    "        m : slope\n",
    "        \n",
    "        c : y-intercept  \n",
    "    \"\"\"\n",
    "    \n",
    "    from sklearn.metrics import r2_score\n",
    "    return r2_score(y,predict(X,m,c).flatten())"
   ]
  },
  {
   "cell_type": "code",
   "execution_count": 20,
   "metadata": {},
   "outputs": [
    {
     "name": "stdout",
     "output_type": "stream",
     "text": [
      "no.of iterations:  131 Cost:  20.9300479465\n",
      "Time: Taken:  0:00:00.011941\n"
     ]
    }
   ],
   "source": [
    "w1,b1,cost1 = linearRegressionGD(x_train,y_train)"
   ]
  },
  {
   "cell_type": "code",
   "execution_count": 21,
   "metadata": {},
   "outputs": [
    {
     "data": {
      "text/plain": [
       "0.7368587800798797"
      ]
     },
     "execution_count": 21,
     "metadata": {},
     "output_type": "execute_result"
    }
   ],
   "source": [
    "score(x_test,y_test,w1,b1)"
   ]
  },
  {
   "cell_type": "markdown",
   "metadata": {},
   "source": [
    "## Custom Linear Regression using SGD"
   ]
  },
  {
   "cell_type": "code",
   "execution_count": 9,
   "metadata": {},
   "outputs": [],
   "source": [
    "def linearRegressionSGD(X,y,w = np.zeros(13),b = 0,iterations=1000,case_size=100,learning_rate=0.1,epsilon_val=0.004):\n",
    "    \"\"\"\n",
    "        Linear Regression Using Gradient Descent Optimization\n",
    "\n",
    "        Parameters\n",
    "        ----------\n",
    "        X : numpy array or sparse matrix of shape [n_samples,n_features]\n",
    "            Training data\n",
    "\n",
    "        y : numpy array of shape [n_samples, n_targets]\n",
    "            Target values\n",
    "\n",
    "        w:  Weight Vector first initializad with 0's\n",
    "        \n",
    "        \n",
    "        b:  y-intercept\n",
    "        \n",
    "        \n",
    "        iterations: no.of iterations\n",
    "        \n",
    "        \n",
    "        case_size : bunch of points to be taken in each iteration \n",
    "        \n",
    "        \n",
    "        epsilon_val: Termination Criteria\n",
    "\n",
    "\n",
    "        Returns\n",
    "        -------\n",
    "        w,b,cost or MSE\n",
    "        \"\"\"\n",
    "    start = datetime.now()\n",
    "    n = float(len(y))\n",
    "    costs = [];\n",
    "    decay_rate = 0.0001\n",
    "    eta=learning_rate\n",
    "    \n",
    "    \n",
    "    for iters in range(iterations):\n",
    "        eta = eta * (1.0/(1+decay_rate*iters))\n",
    "        \n",
    "        X,y =  shuffle(X,y,random_state=0,replace=True)\n",
    "    \n",
    "    \n",
    "        for i in range(case_size):\n",
    "            x_mini = X[i:i+case_size]\n",
    "            y_mini = y[i:i+case_size]\n",
    "            \n",
    "            \n",
    "            error = y_mini -  predict(x_mini,w,b) #y_act - y_predicted\n",
    "\n",
    "            #partial differentiation w.r.t w\n",
    "            w_grad = (-2.0/n)*(x_mini.T.dot(error))\n",
    "\n",
    "            #partial differentiation w.r.t b\n",
    "            b_grad = (-2.0/n)*(np.sum(error))\n",
    "\n",
    "            #MSE\n",
    "            cost = (1.0/n)*np.sum(np.power(error,2))\n",
    "\n",
    "            #updating weight vector\n",
    "            w = w - (eta*w_grad)\n",
    "\n",
    "            #updating y-intercept\n",
    "            b = b - (eta*b_grad)\n",
    "\n",
    "            costs.append(cost)\n",
    "\n",
    "            \n",
    "        #Stopping Criteria\n",
    "        if iters==0:\n",
    "            w_prev = w;\n",
    "        else:\n",
    "            dist = (np.linalg.norm(w-w_prev))\n",
    "            w_prev = w\n",
    "            \n",
    "            #Terminates the loop when difference between w and w_prev is very less \n",
    "            if(round(dist,6)<epsilon_val):\n",
    "                print(\"no.of iterations: \",iters,\"Cost: \",min(costs))\n",
    "                break;\n",
    "        \n",
    "    print(\"Time Taken: \",datetime.now() - start)\n",
    "    return w,b,cost;"
   ]
  },
  {
   "cell_type": "code",
   "execution_count": 57,
   "metadata": {},
   "outputs": [
    {
     "name": "stdout",
     "output_type": "stream",
     "text": [
      "no.of iterations:  379 Cost:  2.3610421482\n",
      "Time Taken:  0:00:00.901566\n"
     ]
    }
   ],
   "source": [
    "w,b,cost = linearRegressionSGD(x_train,y_train)"
   ]
  },
  {
   "cell_type": "code",
   "execution_count": 58,
   "metadata": {},
   "outputs": [
    {
     "data": {
      "text/plain": [
       "array([-0.44528049,  1.18336573, -0.00825891,  0.71232241, -2.15167063,\n",
       "        2.69403028, -0.35533995, -3.51291847,  2.14806818, -1.61030112,\n",
       "       -2.13751993,  0.96277588, -3.32768966])"
      ]
     },
     "execution_count": 58,
     "metadata": {},
     "output_type": "execute_result"
    }
   ],
   "source": [
    "# final Weight Vector\n",
    "w"
   ]
  },
  {
   "cell_type": "code",
   "execution_count": 59,
   "metadata": {},
   "outputs": [
    {
     "data": {
      "text/plain": [
       "22.598247491871987"
      ]
     },
     "execution_count": 59,
     "metadata": {},
     "output_type": "execute_result"
    }
   ],
   "source": [
    "# Final y-intercept\n",
    "b"
   ]
  },
  {
   "cell_type": "code",
   "execution_count": 60,
   "metadata": {},
   "outputs": [
    {
     "data": {
      "text/plain": [
       "6.0160838332641928"
      ]
     },
     "execution_count": 60,
     "metadata": {},
     "output_type": "execute_result"
    }
   ],
   "source": [
    "cost"
   ]
  },
  {
   "cell_type": "code",
   "execution_count": 61,
   "metadata": {},
   "outputs": [
    {
     "data": {
      "text/plain": [
       "0.7428985195078156"
      ]
     },
     "execution_count": 61,
     "metadata": {},
     "output_type": "execute_result"
    }
   ],
   "source": [
    "score(x_test,y_test,w,b)"
   ]
  },
  {
   "cell_type": "markdown",
   "metadata": {},
   "source": [
    "## Sklearn SGD Regressor"
   ]
  },
  {
   "cell_type": "code",
   "execution_count": 54,
   "metadata": {},
   "outputs": [
    {
     "data": {
      "text/plain": [
       "0.7236731566748813"
      ]
     },
     "execution_count": 54,
     "metadata": {},
     "output_type": "execute_result"
    }
   ],
   "source": [
    "sgd_lr = SGDRegressor(eta0=0.1,shuffle=True)\n",
    "\n",
    "sgd_lr.fit(x_train,y_train)\n",
    "\n",
    "y_pred = sgd_lr.predict(x_test)\n",
    "\n",
    "r2_score(y_test,y_pred)"
   ]
  },
  {
   "cell_type": "code",
   "execution_count": 55,
   "metadata": {},
   "outputs": [
    {
     "data": {
      "text/plain": [
       "array([-0.51154757,  1.16277626,  0.45075066,  0.54998761, -2.0917407 ,\n",
       "        2.51920819, -0.59341105, -3.59284535,  1.99623011, -1.07285643,\n",
       "       -2.19643933,  1.53888722, -3.21550559])"
      ]
     },
     "execution_count": 55,
     "metadata": {},
     "output_type": "execute_result"
    }
   ],
   "source": [
    "sgd_lr.coef_"
   ]
  },
  {
   "cell_type": "markdown",
   "metadata": {},
   "source": [
    "## Scatter Plots of Actual Vs Predictions of Sklearn and Custom Impls"
   ]
  },
  {
   "cell_type": "code",
   "execution_count": 91,
   "metadata": {},
   "outputs": [
    {
     "data": {
      "image/png": "[encoded data removed]",
      "text/plain": [
       "<matplotlib.figure.Figure at 0x1ce78246390>"
      ]
     },
     "metadata": {},
     "output_type": "display_data"
    }
   ],
   "source": [
    "plt.subplot(121)\n",
    "plt.scatter(x=y_test, y=y_pred);\n",
    "plt.title('Sklearn SGD Actual vs Predicted')\n",
    "plt.xlabel('Actual')\n",
    "plt.ylabel('Predicted')\n",
    "plt.grid()\n",
    "\n",
    "plt.subplot(122)\n",
    "plt.scatter(x=y_test, y=predict(x_test,w,b).flatten());\n",
    "plt.title('Custom SGD Actual vs Predicted')\n",
    "plt.xlabel('Actual')\n",
    "plt.ylabel('Predicted')\n",
    "plt.grid()\n",
    "\n",
    "plt.show()"
   ]
  },
  {
   "cell_type": "markdown",
   "metadata": {},
   "source": [
    "## Weight Vectors Comparision"
   ]
  },
  {
   "cell_type": "code",
   "execution_count": 64,
   "metadata": {},
   "outputs": [
    {
     "name": "stdout",
     "output_type": "stream",
     "text": [
      "Custom GD Linear Regression Weight Vector:   [-0.31488545  1.01598113 -0.04944872  0.77237078 -1.93660554  2.99868062\n",
      " -0.49479217 -3.30437067  1.55003278 -1.20937898 -2.08453311  0.99504223\n",
      " -3.0701105 ]\n",
      "Custom SGD Linear Regression Weight Vector:   [-0.44528049  1.18336573 -0.00825891  0.71232241 -2.15167063  2.69403028\n",
      " -0.35533995 -3.51291847  2.14806818 -1.61030112 -2.13751993  0.96277588\n",
      " -3.32768966]\n",
      "SkLearn SGD Linear Regression Weight Vector:   [-0.51154757  1.16277626  0.45075066  0.54998761 -2.0917407   2.51920819\n",
      " -0.59341105 -3.59284535  1.99623011 -1.07285643 -2.19643933  1.53888722\n",
      " -3.21550559]\n"
     ]
    }
   ],
   "source": [
    "print(\"Custom GD Linear Regression Weight Vector:  \",w1)\n",
    "print(\"Custom SGD Linear Regression Weight Vector:  \",w)\n",
    "print(\"SkLearn SGD Linear Regression Weight Vector:  \",sgd_lr.coef_)"
   ]
  },
  {
   "cell_type": "markdown",
   "metadata": {},
   "source": [
    "## Scores Custom vs Sklearn Implementation"
   ]
  },
  {
   "cell_type": "code",
   "execution_count": 63,
   "metadata": {},
   "outputs": [
    {
     "name": "stdout",
     "output_type": "stream",
     "text": [
      "Custom GD Linear Regression Score:  0.73685878008\n",
      "Custom SGD Linear Regression Score:  0.742898519508\n",
      "SkLearn SGD Linear Regression Score:  0.723673156675\n"
     ]
    }
   ],
   "source": [
    "print(\"Custom GD Linear Regression Score: \",score(x_test,y_test,w1,b1))\n",
    "print(\"Custom SGD Linear Regression Score: \",score(x_test,y_test,w,b))\n",
    "print(\"SkLearn SGD Linear Regression Score: \",r2_score(y_test,y_pred))"
   ]
  },
  {
   "cell_type": "markdown",
   "metadata": {},
   "source": [
    "> Accuracy is almost similar, Custome Sgd Implementation got highest score here, but Scores may change slightly based on the shuffle."
   ]
  },
  {
   "cell_type": "code",
   "execution_count": null,
   "metadata": {},
   "outputs": [],
   "source": []
  }
 ],
 "metadata": {
  "kernelspec": {
   "display_name": "Python 3",
   "language": "python",
   "name": "python3"
  },
  "language_info": {
   "codemirror_mode": {
    "name": "ipython",
    "version": 3
   },
   "file_extension": ".py",
   "mimetype": "text/x-python",
   "name": "python",
   "nbconvert_exporter": "python",
   "pygments_lexer": "ipython3",
   "version": "3.6.4"
  }
 },
 "nbformat": 4,
 "nbformat_minor": 2
}
