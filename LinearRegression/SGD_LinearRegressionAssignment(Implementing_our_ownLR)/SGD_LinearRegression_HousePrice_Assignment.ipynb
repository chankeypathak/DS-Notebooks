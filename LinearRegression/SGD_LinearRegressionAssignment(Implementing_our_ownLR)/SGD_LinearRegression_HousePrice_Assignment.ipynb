{
 "cells": [
  {
   "cell_type": "markdown",
   "metadata": {},
   "source": [
    "# Stochastic Gradient Descent(SGD) on Linear Regression on Boston House Prices"
   ]
  },
  {
   "cell_type": "code",
   "execution_count": 1,
   "metadata": {},
   "outputs": [],
   "source": [
    "from sklearn.datasets import load_boston"
   ]
  },
  {
   "cell_type": "code",
   "execution_count": 2,
   "metadata": {},
   "outputs": [
    {
     "data": {
      "text/plain": [
       "(506, 13)"
      ]
     },
     "execution_count": 2,
     "metadata": {},
     "output_type": "execute_result"
    }
   ],
   "source": [
    "boston = load_boston()\n",
    "boston.data.shape"
   ]
  },
  {
   "cell_type": "code",
   "execution_count": 3,
   "metadata": {},
   "outputs": [
    {
     "data": {
      "text/plain": [
       "array(['CRIM', 'ZN', 'INDUS', 'CHAS', 'NOX', 'RM', 'AGE', 'DIS', 'RAD',\n",
       "       'TAX', 'PTRATIO', 'B', 'LSTAT'], dtype='<U7')"
      ]
     },
     "execution_count": 3,
     "metadata": {},
     "output_type": "execute_result"
    }
   ],
   "source": [
    "boston.feature_names"
   ]
  },
  {
   "cell_type": "code",
   "execution_count": 4,
   "metadata": {},
   "outputs": [
    {
     "data": {
      "text/html": [
       "<div>\n",
       "<style scoped>\n",
       "    .dataframe tbody tr th:only-of-type {\n",
       "        vertical-align: middle;\n",
       "    }\n",
       "\n",
       "    .dataframe tbody tr th {\n",
       "        vertical-align: top;\n",
       "    }\n",
       "\n",
       "    .dataframe thead th {\n",
       "        text-align: right;\n",
       "    }\n",
       "</style>\n",
       "<table border=\"1\" class=\"dataframe\">\n",
       "  <thead>\n",
       "    <tr style=\"text-align: right;\">\n",
       "      <th></th>\n",
       "      <th>0</th>\n",
       "      <th>1</th>\n",
       "      <th>2</th>\n",
       "      <th>3</th>\n",
       "      <th>4</th>\n",
       "      <th>5</th>\n",
       "      <th>6</th>\n",
       "      <th>7</th>\n",
       "      <th>8</th>\n",
       "      <th>9</th>\n",
       "      <th>10</th>\n",
       "      <th>11</th>\n",
       "      <th>12</th>\n",
       "    </tr>\n",
       "  </thead>\n",
       "  <tbody>\n",
       "    <tr>\n",
       "      <th>0</th>\n",
       "      <td>0.00632</td>\n",
       "      <td>18.0</td>\n",
       "      <td>2.31</td>\n",
       "      <td>0.0</td>\n",
       "      <td>0.538</td>\n",
       "      <td>6.575</td>\n",
       "      <td>65.2</td>\n",
       "      <td>4.0900</td>\n",
       "      <td>1.0</td>\n",
       "      <td>296.0</td>\n",
       "      <td>15.3</td>\n",
       "      <td>396.90</td>\n",
       "      <td>4.98</td>\n",
       "    </tr>\n",
       "    <tr>\n",
       "      <th>1</th>\n",
       "      <td>0.02731</td>\n",
       "      <td>0.0</td>\n",
       "      <td>7.07</td>\n",
       "      <td>0.0</td>\n",
       "      <td>0.469</td>\n",
       "      <td>6.421</td>\n",
       "      <td>78.9</td>\n",
       "      <td>4.9671</td>\n",
       "      <td>2.0</td>\n",
       "      <td>242.0</td>\n",
       "      <td>17.8</td>\n",
       "      <td>396.90</td>\n",
       "      <td>9.14</td>\n",
       "    </tr>\n",
       "    <tr>\n",
       "      <th>2</th>\n",
       "      <td>0.02729</td>\n",
       "      <td>0.0</td>\n",
       "      <td>7.07</td>\n",
       "      <td>0.0</td>\n",
       "      <td>0.469</td>\n",
       "      <td>7.185</td>\n",
       "      <td>61.1</td>\n",
       "      <td>4.9671</td>\n",
       "      <td>2.0</td>\n",
       "      <td>242.0</td>\n",
       "      <td>17.8</td>\n",
       "      <td>392.83</td>\n",
       "      <td>4.03</td>\n",
       "    </tr>\n",
       "    <tr>\n",
       "      <th>3</th>\n",
       "      <td>0.03237</td>\n",
       "      <td>0.0</td>\n",
       "      <td>2.18</td>\n",
       "      <td>0.0</td>\n",
       "      <td>0.458</td>\n",
       "      <td>6.998</td>\n",
       "      <td>45.8</td>\n",
       "      <td>6.0622</td>\n",
       "      <td>3.0</td>\n",
       "      <td>222.0</td>\n",
       "      <td>18.7</td>\n",
       "      <td>394.63</td>\n",
       "      <td>2.94</td>\n",
       "    </tr>\n",
       "    <tr>\n",
       "      <th>4</th>\n",
       "      <td>0.06905</td>\n",
       "      <td>0.0</td>\n",
       "      <td>2.18</td>\n",
       "      <td>0.0</td>\n",
       "      <td>0.458</td>\n",
       "      <td>7.147</td>\n",
       "      <td>54.2</td>\n",
       "      <td>6.0622</td>\n",
       "      <td>3.0</td>\n",
       "      <td>222.0</td>\n",
       "      <td>18.7</td>\n",
       "      <td>396.90</td>\n",
       "      <td>5.33</td>\n",
       "    </tr>\n",
       "  </tbody>\n",
       "</table>\n",
       "</div>"
      ],
      "text/plain": [
       "        0     1     2    3      4      5     6       7    8      9     10  \\\n",
       "0  0.00632  18.0  2.31  0.0  0.538  6.575  65.2  4.0900  1.0  296.0  15.3   \n",
       "1  0.02731   0.0  7.07  0.0  0.469  6.421  78.9  4.9671  2.0  242.0  17.8   \n",
       "2  0.02729   0.0  7.07  0.0  0.469  7.185  61.1  4.9671  2.0  242.0  17.8   \n",
       "3  0.03237   0.0  2.18  0.0  0.458  6.998  45.8  6.0622  3.0  222.0  18.7   \n",
       "4  0.06905   0.0  2.18  0.0  0.458  7.147  54.2  6.0622  3.0  222.0  18.7   \n",
       "\n",
       "       11    12  \n",
       "0  396.90  4.98  \n",
       "1  396.90  9.14  \n",
       "2  392.83  4.03  \n",
       "3  394.63  2.94  \n",
       "4  396.90  5.33  "
      ]
     },
     "execution_count": 4,
     "metadata": {},
     "output_type": "execute_result"
    }
   ],
   "source": [
    "import pandas as pd\n",
    "bos = pd.DataFrame(boston.data)\n",
    "bos.head()"
   ]
  },
  {
   "cell_type": "code",
   "execution_count": 5,
   "metadata": {},
   "outputs": [],
   "source": [
    "# adding Price column to this data set\n",
    "\n",
    "bos['price'] =boston.target\n",
    "\n",
    "# considering all cols other than price col\n",
    "X = bos.drop('price',axis=1)\n",
    "\n",
    "# Y axis Prices\n",
    "Y=bos['price']"
   ]
  },
  {
   "cell_type": "code",
   "execution_count": 6,
   "metadata": {},
   "outputs": [
    {
     "name": "stderr",
     "output_type": "stream",
     "text": [
      "C:\\Users\\Dell\\Anaconda3\\lib\\site-packages\\sklearn\\cross_validation.py:41: DeprecationWarning: This module was deprecated in version 0.18 in favor of the model_selection module into which all the refactored classes and functions are moved. Also note that the interface of the new CV iterators are different from that of this module. This module will be removed in 0.20.\n",
      "  \"This module will be removed in 0.20.\", DeprecationWarning)\n"
     ]
    }
   ],
   "source": [
    "from sklearn.cross_validation import train_test_split\n",
    "x_train,x_test,y_train,y_test = train_test_split(X,Y,test_size=0.3)"
   ]
  },
  {
   "cell_type": "markdown",
   "metadata": {},
   "source": [
    "## Implementing SGD"
   ]
  },
  {
   "cell_type": "code",
   "execution_count": 59,
   "metadata": {},
   "outputs": [
    {
     "name": "stdout",
     "output_type": "stream",
     "text": [
      "(354, 13) (354,)\n"
     ]
    }
   ],
   "source": [
    "import numpy as np\n",
    "x = np.array(x_train)\n",
    "y = np.array(y_train)\n",
    "print(x.shape,y.shape)"
   ]
  },
  {
   "cell_type": "code",
   "execution_count": 116,
   "metadata": {},
   "outputs": [
    {
     "name": "stdout",
     "output_type": "stream",
     "text": [
      "(354, 13) (354,)\n"
     ]
    }
   ],
   "source": [
    "\n",
    "import numpy as np\n",
    "x = np.array(x_train)\n",
    "y = np.array(y_train)\n",
    "w = np.zeros(13)\n",
    "print(x.shape,y.shape)"
   ]
  },
  {
   "cell_type": "code",
   "execution_count": 117,
   "metadata": {},
   "outputs": [],
   "source": [
    "#w = np.zeros(13)\n",
    "r=1\n",
    "li_of_w = []\n",
    "for i in range(20):\n",
    "    a = np.matmul(x,w)\n",
    "    \n",
    "    b = y - a\n",
    "    \n",
    "    \n",
    "    c = np.matmul(x.T,b)\n",
    "    \n",
    "    d = r * c\n",
    "    #dist = np.linalg.norm(w - (w -d.T))\n",
    "    w = w -d.T\n",
    "   \n",
    "    li_of_w.append(w)\n"
   ]
  },
  {
   "cell_type": "code",
   "execution_count": 118,
   "metadata": {},
   "outputs": [
    {
     "data": {
      "text/plain": [
       "[array([-1.97280104e+04, -1.20113500e+05, -7.93761870e+04, -7.06900000e+02,\n",
       "        -4.30438327e+03, -5.17462539e+04, -5.22088010e+05, -3.17918210e+04,\n",
       "        -6.70353000e+04, -3.02210890e+06, -1.45036090e+05, -2.94611687e+06,\n",
       "        -8.45609230e+04]),\n",
       " array([-3.95788840e+12, -8.26388213e+12, -1.00429951e+13, -5.37930902e+10,\n",
       "        -4.70918010e+11, -5.15290399e+12, -5.93216246e+13, -2.93942306e+12,\n",
       "        -9.12735047e+12, -3.64219938e+14, -1.54864212e+13, -2.94025404e+14,\n",
       "        -1.09828941e+13]),\n",
       " array([-4.53398557e+20, -8.98435976e+20, -1.12769234e+21, -5.93138004e+18,\n",
       "        -5.25043141e+19, -5.71895443e+20, -6.62483003e+21, -3.23741836e+20,\n",
       "        -1.03253072e+21, -4.08531750e+22, -1.72249033e+21, -3.24831332e+22,\n",
       "        -1.23025168e+21]),\n",
       " array([-5.06636778e+28, -9.99861676e+28, -1.25816214e+29, -6.60815849e+26,\n",
       "        -5.85465392e+27, -6.37481177e+28, -7.38815411e+29, -3.60651734e+28,\n",
       "        -1.15265955e+29, -4.55760758e+30, -1.92035373e+29, -3.61951642e+30,\n",
       "        -1.37232884e+29]),\n",
       " array([-5.65039900e+36, -1.11476636e+37, -1.40302827e+37, -7.36820090e+34,\n",
       "        -6.52848211e+35, -7.10830645e+36, -8.23855887e+37, -4.02129795e+36,\n",
       "        -1.28543656e+37, -5.08234340e+38, -2.14134083e+37, -4.03586755e+38,\n",
       "        -1.53031763e+37]),\n",
       " array([-6.30080572e+44, -1.24305387e+45, -1.56451332e+45, -8.21618990e+42,\n",
       "        -7.27986930e+43, -7.92641027e+44, -9.18677230e+45, -4.48409747e+44,\n",
       "        -1.43339222e+45, -5.66730563e+46, -2.38779291e+45, -4.50035045e+46,\n",
       "        -1.70645139e+45]),\n",
       " array([-7.02599640e+52, -1.38612032e+53, -1.74457954e+53, -9.16181836e+50,\n",
       "        -8.11773699e+51, -8.83868926e+52, -1.02441133e+54, -5.00018687e+52,\n",
       "        -1.59836762e+53, -6.31957870e+54, -2.66261278e+53, -5.01831104e+54,\n",
       "        -1.90285366e+53]),\n",
       " array([-7.83464556e+60, -1.54565404e+61, -1.94536984e+61, -1.02162864e+59,\n",
       "        -9.05203808e+59, -9.85596735e+60, -1.14231471e+62, -5.57567711e+60,\n",
       "        -1.78232988e+61, -7.04692307e+62, -2.96906295e+61, -5.59588731e+62,\n",
       "        -2.12186033e+61]),\n",
       " array([-8.73636464e+68, -1.72354921e+69, -2.16926983e+69, -1.13921175e+67,\n",
       "        -1.00938714e+68, -1.09903279e+69, -1.27378804e+70, -6.21740289e+68,\n",
       "        -1.98746499e+69, -7.85798015e+70, -3.31078365e+69, -6.23993916e+70,\n",
       "        -2.36607327e+69]),\n",
       " array([-9.74186594e+76, -1.92191902e+77, -2.41893931e+77, -1.27032794e+75,\n",
       "        -1.12556133e+76, -1.22552464e+77, -1.42039313e+78, -6.93298733e+76,\n",
       "        -2.21620986e+77, -8.76238485e+78, -3.69183427e+77, -6.95811739e+78,\n",
       "        -2.63839360e+77]),\n",
       " array([-1.08630942e+85, -2.14311996e+85, -2.69734420e+85, -1.41653479e+83,\n",
       "        -1.25510645e+84, -1.36657491e+85, -1.58387156e+86, -7.73093110e+84,\n",
       "        -2.47128185e+85, -9.77088091e+86, -4.11674146e+85, -7.75895347e+86,\n",
       "        -2.94205632e+85]),\n",
       " array([-1.21133688e+93, -2.38977975e+93, -3.00779176e+93, -1.57956915e+91,\n",
       "        -1.39956140e+92, -1.52385920e+93, -1.76616533e+94, -8.62071324e+92,\n",
       "        -2.75571103e+93, -1.08954486e+95, -4.59055283e+93, -8.65196081e+94,\n",
       "        -3.28066872e+93]),\n",
       " array([-1.35075423e+101, -2.66482855e+101, -3.35396990e+101,\n",
       "        -1.76136774e+099, -1.56064223e+100, -1.69924592e+101,\n",
       "        -1.96943999e+102, -9.61290378e+100, -3.07287625e+101,\n",
       "        -1.21494470e+103, -5.11889694e+101, -9.64774775e+102,\n",
       "        -3.65825331e+101]),\n",
       " array([-1.50621765e+109, -2.97153376e+109, -3.73999100e+109,\n",
       "        -1.96409023e+107, -1.74026245e+108, -1.89481857e+109,\n",
       "        -2.19611030e+110, -1.07192893e+109, -3.42654522e+109,\n",
       "        -1.35477729e+111, -5.70805018e+109, -1.07581436e+111,\n",
       "        -4.07929554e+109]),\n",
       " array([-1.67957395e+117, -3.31353884e+117, -4.17044073e+117,\n",
       "        -2.19014481e+115, -1.94055585e+116, -2.11290042e+117,\n",
       "        -2.44886895e+118, -1.19530129e+117, -3.82091929e+117,\n",
       "        -1.51070374e+119, -6.36501129e+117, -1.19963391e+119,\n",
       "        -4.54879711e+117]),\n",
       " array([-1.87288248e+125, -3.69490657e+125, -4.65043255e+125,\n",
       "        -2.44221687e+123, -2.16390177e+124, -2.35608213e+125,\n",
       "        -2.73071855e+126, -1.33287304e+125, -4.26068336e+125,\n",
       "        -1.68457636e+127, -7.09758455e+125, -1.33770432e+127,\n",
       "        -5.07233540e+125]),\n",
       " array([-2.08843961e+133, -4.12016737e+133, -5.18566845e+133,\n",
       "        -2.72330086e+131, -2.41295342e+132, -2.62725254e+133,\n",
       "        -3.04500729e+134, -1.48627845e+133, -4.75106154e+133,\n",
       "        -1.87846063e+135, -7.91447244e+133, -1.49166577e+135,\n",
       "        -5.65612969e+133]),\n",
       " array([-2.32880604e+141, -4.59437303e+141, -5.78250667e+141,\n",
       "        -3.03673587e+139, -2.69066937e+140, -2.92963299e+141,\n",
       "        -3.39546871e+142, -1.65733986e+141, -5.29787921e+141,\n",
       "        -2.09465978e+143, -8.82537905e+141, -1.66334724e+143,\n",
       "        -6.30711508e+141]),\n",
       " array([-2.59683715e+149, -5.12315683e+149, -6.44803726e+149,\n",
       "        -3.38624531e+147, -3.00034870e+148, -3.26681555e+149,\n",
       "        -3.78626607e+150, -1.84808939e+149, -5.90763219e+149,\n",
       "        -2.33574211e+151, -9.84112535e+149, -1.85478817e+151,\n",
       "        -7.03302484e+149]),\n",
       " array([-2.89571697e+157, -5.71280035e+157, -7.19016629e+157,\n",
       "        -3.77598110e+155, -3.34567019e+156, -3.64280572e+157,\n",
       "        -4.22204177e+158, -2.06079299e+157, -6.58756396e+157,\n",
       "        -2.60457151e+159, -1.09737777e+158, -2.06826277e+159,\n",
       "        -7.84248231e+157])]"
      ]
     },
     "execution_count": 118,
     "metadata": {},
     "output_type": "execute_result"
    }
   ],
   "source": [
    "li_of_w"
   ]
  },
  {
   "cell_type": "code",
   "execution_count": null,
   "metadata": {},
   "outputs": [],
   "source": []
  }
 ],
 "metadata": {
  "kernelspec": {
   "display_name": "Python 3",
   "language": "python",
   "name": "python3"
  },
  "language_info": {
   "codemirror_mode": {
    "name": "ipython",
    "version": 3
   },
   "file_extension": ".py",
   "mimetype": "text/x-python",
   "name": "python",
   "nbconvert_exporter": "python",
   "pygments_lexer": "ipython3",
   "version": "3.6.4"
  }
 },
 "nbformat": 4,
 "nbformat_minor": 2
}
