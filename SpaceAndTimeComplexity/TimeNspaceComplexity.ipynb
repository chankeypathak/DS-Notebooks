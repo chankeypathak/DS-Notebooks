{
 "cells": [
  {
   "cell_type": "code",
   "execution_count": 1,
   "metadata": {},
   "outputs": [],
   "source": [
    "import numpy as np"
   ]
  },
  {
   "cell_type": "code",
   "execution_count": 67,
   "metadata": {},
   "outputs": [],
   "source": [
    "#li = np.array([4,1,5,2,6,3,7,1,8,10,31,22,12]);\n",
    "li = np.arange(1000000);"
   ]
  },
  {
   "cell_type": "markdown",
   "metadata": {},
   "source": [
    "# Linear Search"
   ]
  },
  {
   "cell_type": "code",
   "execution_count": 70,
   "metadata": {},
   "outputs": [
    {
     "name": "stdout",
     "output_type": "stream",
     "text": [
      "found\n",
      "Time Taken:  0.21156048774719238\n"
     ]
    }
   ],
   "source": [
    "import time\n",
    "\n",
    "start_time = time.time();\n",
    "\n",
    "flag=False;\n",
    "for ele in li:\n",
    "    if(ele==999999):\n",
    "        print(\"found\");\n",
    "        flag=True\n",
    "        break;\n",
    "if(flag==False):\n",
    "    print(\"NotFound\");\n",
    "end_time = time.time();\n",
    "\n",
    "print(\"Time Taken: \",end_time - start_time);"
   ]
  },
  {
   "cell_type": "markdown",
   "metadata": {},
   "source": [
    "# Binary Search"
   ]
  },
  {
   "cell_type": "code",
   "execution_count": 74,
   "metadata": {},
   "outputs": [
    {
     "name": "stdout",
     "output_type": "stream",
     "text": [
      "Found\n",
      "Time Taken:  0.0010025501251220703\n"
     ]
    }
   ],
   "source": [
    "li = np.arange(1000000000);\n",
    "\n",
    "start_time = time.time();\n",
    "flag=False;\n",
    "def binSearch(li,start,end,key):\n",
    "    global flag\n",
    "    mid=int((start+end)/2);\n",
    "    if(li[mid]==key):\n",
    "        flag=True;\n",
    "        return flag;\n",
    "    elif(li[mid]<key):\n",
    "        start=mid+1;\n",
    "        return binSearch(li,start,end,key)\n",
    "    else:\n",
    "        end=mid-1;\n",
    "        return binSearch(li,start,end,key)\n",
    "\n",
    "\n",
    "\n",
    "x = binSearch(li,0,len(li)-1,999999999);\n",
    "\n",
    "if(x==True):\n",
    "    print(\"Found\");\n",
    "else:\n",
    "    print(\"Not Found\");\n",
    "\n",
    "end_time = time.time();\n",
    "\n",
    "print(\"Time Taken: \",end_time - start_time);"
   ]
  },
  {
   "cell_type": "code",
   "execution_count": 58,
   "metadata": {},
   "outputs": [
    {
     "data": {
      "text/plain": [
       "5"
      ]
     },
     "execution_count": 58,
     "metadata": {},
     "output_type": "execute_result"
    }
   ],
   "source": []
  },
  {
   "cell_type": "code",
   "execution_count": null,
   "metadata": {},
   "outputs": [],
   "source": []
  }
 ],
 "metadata": {
  "kernelspec": {
   "display_name": "Python 3",
   "language": "python",
   "name": "python3"
  },
  "language_info": {
   "codemirror_mode": {
    "name": "ipython",
    "version": 3
   },
   "file_extension": ".py",
   "mimetype": "text/x-python",
   "name": "python",
   "nbconvert_exporter": "python",
   "pygments_lexer": "ipython3",
   "version": "3.6.4"
  }
 },
 "nbformat": 4,
 "nbformat_minor": 2
}
